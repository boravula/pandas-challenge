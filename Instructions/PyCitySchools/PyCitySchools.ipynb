{
 "cells": [
  {
   "cell_type": "markdown",
   "metadata": {},
   "source": [
    "### Note\n",
    "* Instructions have been included for each segment. You do not have to follow them exactly, but they are included to help you think through the steps."
   ]
  },
  {
   "cell_type": "code",
   "execution_count": 1,
   "metadata": {},
   "outputs": [
    {
     "data": {
      "text/html": [
       "<div>\n",
       "<style scoped>\n",
       "    .dataframe tbody tr th:only-of-type {\n",
       "        vertical-align: middle;\n",
       "    }\n",
       "\n",
       "    .dataframe tbody tr th {\n",
       "        vertical-align: top;\n",
       "    }\n",
       "\n",
       "    .dataframe thead th {\n",
       "        text-align: right;\n",
       "    }\n",
       "</style>\n",
       "<table border=\"1\" class=\"dataframe\">\n",
       "  <thead>\n",
       "    <tr style=\"text-align: right;\">\n",
       "      <th></th>\n",
       "      <th>Student ID</th>\n",
       "      <th>student_name</th>\n",
       "      <th>gender</th>\n",
       "      <th>grade</th>\n",
       "      <th>school_name</th>\n",
       "      <th>reading_score</th>\n",
       "      <th>math_score</th>\n",
       "      <th>School ID</th>\n",
       "      <th>type</th>\n",
       "      <th>size</th>\n",
       "      <th>budget</th>\n",
       "    </tr>\n",
       "  </thead>\n",
       "  <tbody>\n",
       "    <tr>\n",
       "      <th>0</th>\n",
       "      <td>0</td>\n",
       "      <td>Paul Bradley</td>\n",
       "      <td>M</td>\n",
       "      <td>9th</td>\n",
       "      <td>Huang High School</td>\n",
       "      <td>66</td>\n",
       "      <td>79</td>\n",
       "      <td>0</td>\n",
       "      <td>District</td>\n",
       "      <td>2917</td>\n",
       "      <td>1910635</td>\n",
       "    </tr>\n",
       "    <tr>\n",
       "      <th>1</th>\n",
       "      <td>1</td>\n",
       "      <td>Victor Smith</td>\n",
       "      <td>M</td>\n",
       "      <td>12th</td>\n",
       "      <td>Huang High School</td>\n",
       "      <td>94</td>\n",
       "      <td>61</td>\n",
       "      <td>0</td>\n",
       "      <td>District</td>\n",
       "      <td>2917</td>\n",
       "      <td>1910635</td>\n",
       "    </tr>\n",
       "    <tr>\n",
       "      <th>2</th>\n",
       "      <td>2</td>\n",
       "      <td>Kevin Rodriguez</td>\n",
       "      <td>M</td>\n",
       "      <td>12th</td>\n",
       "      <td>Huang High School</td>\n",
       "      <td>90</td>\n",
       "      <td>60</td>\n",
       "      <td>0</td>\n",
       "      <td>District</td>\n",
       "      <td>2917</td>\n",
       "      <td>1910635</td>\n",
       "    </tr>\n",
       "    <tr>\n",
       "      <th>3</th>\n",
       "      <td>3</td>\n",
       "      <td>Dr. Richard Scott</td>\n",
       "      <td>M</td>\n",
       "      <td>12th</td>\n",
       "      <td>Huang High School</td>\n",
       "      <td>67</td>\n",
       "      <td>58</td>\n",
       "      <td>0</td>\n",
       "      <td>District</td>\n",
       "      <td>2917</td>\n",
       "      <td>1910635</td>\n",
       "    </tr>\n",
       "    <tr>\n",
       "      <th>4</th>\n",
       "      <td>4</td>\n",
       "      <td>Bonnie Ray</td>\n",
       "      <td>F</td>\n",
       "      <td>9th</td>\n",
       "      <td>Huang High School</td>\n",
       "      <td>97</td>\n",
       "      <td>84</td>\n",
       "      <td>0</td>\n",
       "      <td>District</td>\n",
       "      <td>2917</td>\n",
       "      <td>1910635</td>\n",
       "    </tr>\n",
       "  </tbody>\n",
       "</table>\n",
       "</div>"
      ],
      "text/plain": [
       "   Student ID       student_name gender grade        school_name  \\\n",
       "0           0       Paul Bradley      M   9th  Huang High School   \n",
       "1           1       Victor Smith      M  12th  Huang High School   \n",
       "2           2    Kevin Rodriguez      M  12th  Huang High School   \n",
       "3           3  Dr. Richard Scott      M  12th  Huang High School   \n",
       "4           4         Bonnie Ray      F   9th  Huang High School   \n",
       "\n",
       "   reading_score  math_score  School ID      type  size   budget  \n",
       "0             66          79          0  District  2917  1910635  \n",
       "1             94          61          0  District  2917  1910635  \n",
       "2             90          60          0  District  2917  1910635  \n",
       "3             67          58          0  District  2917  1910635  \n",
       "4             97          84          0  District  2917  1910635  "
      ]
     },
     "execution_count": 1,
     "metadata": {},
     "output_type": "execute_result"
    }
   ],
   "source": [
    "# Dependencies and Setup\n",
    "import pandas as pd\n",
    "import numpy as np\n",
    "\n",
    "# File to Load (Remember to Change These)\n",
    "school_data_to_load = \"Resources/schools_complete.csv\"\n",
    "student_data_to_load = \"Resources/students_complete.csv\"\n",
    "\n",
    "# Read School and Student Data File and store into Pandas DataFrames\n",
    "school_data_df = pd.read_csv(school_data_to_load)\n",
    "student_data_df = pd.read_csv(student_data_to_load)\n",
    "\n",
    "\n",
    "# Combine the data into a single dataset.  \n",
    "school_data_complete = pd.merge(student_data_df, school_data_df, how=\"left\", on=[\"school_name\", \"school_name\"])\n",
    "school_data_complete.head()"
   ]
  },
  {
   "cell_type": "markdown",
   "metadata": {},
   "source": [
    "## District Summary\n",
    "\n",
    "* Calculate the total number of schools\n",
    "\n",
    "* Calculate the total number of students\n",
    "\n",
    "* Calculate the total budget\n",
    "\n",
    "* Calculate the average math score \n",
    "\n",
    "* Calculate the average reading score\n",
    "\n",
    "* Calculate the percentage of students with a passing math score (70 or greater)\n",
    "\n",
    "* Calculate the percentage of students with a passing reading score (70 or greater)\n",
    "\n",
    "* Calculate the percentage of students who passed math **and** reading (% Overall Passing)\n",
    "\n",
    "* Create a dataframe to hold the above results\n",
    "\n",
    "* Optional: give the displayed data cleaner formatting"
   ]
  },
  {
   "cell_type": "code",
   "execution_count": 2,
   "metadata": {},
   "outputs": [
    {
     "data": {
      "text/plain": [
       "15"
      ]
     },
     "execution_count": 2,
     "metadata": {},
     "output_type": "execute_result"
    }
   ],
   "source": [
    "#Calculate the total number of schools\n",
    "Total_Schools = len(school_data_complete[\"school_name\"].unique())\n",
    "Total_Schools"
   ]
  },
  {
   "cell_type": "code",
   "execution_count": 3,
   "metadata": {},
   "outputs": [
    {
     "data": {
      "text/plain": [
       "32715"
      ]
     },
     "execution_count": 3,
     "metadata": {},
     "output_type": "execute_result"
    }
   ],
   "source": [
    "#Calculate the total number of students\n",
    "Total_Students = len(school_data_complete[\"student_name\"].unique())\n",
    "Total_Students"
   ]
  },
  {
   "cell_type": "markdown",
   "metadata": {},
   "source": [
    "## School Summary"
   ]
  },
  {
   "cell_type": "code",
   "execution_count": 4,
   "metadata": {},
   "outputs": [
    {
     "data": {
      "text/plain": [
       "24649428"
      ]
     },
     "execution_count": 4,
     "metadata": {},
     "output_type": "execute_result"
    }
   ],
   "source": [
    "#Calculate the total budget\n",
    "Total_School_budget = sum(school_data_complete[\"budget\"].unique())\n",
    "Total_School_budget"
   ]
  },
  {
   "cell_type": "code",
   "execution_count": 5,
   "metadata": {},
   "outputs": [
    {
     "data": {
      "text/plain": [
       "78.99"
      ]
     },
     "execution_count": 5,
     "metadata": {},
     "output_type": "execute_result"
    }
   ],
   "source": [
    "#Calculate the average math score\n",
    "Avg_Math_Score = sum(school_data_complete[\"math_score\"]) / len(school_data_complete[\"math_score\"])\n",
    "Avg_Math_Score = round(Avg_Math_Score, 2)\n",
    "Avg_Math_Score"
   ]
  },
  {
   "cell_type": "code",
   "execution_count": 6,
   "metadata": {},
   "outputs": [
    {
     "data": {
      "text/plain": [
       "81.88"
      ]
     },
     "execution_count": 6,
     "metadata": {},
     "output_type": "execute_result"
    }
   ],
   "source": [
    "#Calculate the average reading score\n",
    "Avg_read_Score = sum(school_data_complete[\"reading_score\"]) / len(school_data_complete[\"reading_score\"])\n",
    "Avg_read_Score = round(Avg_read_Score, 2)\n",
    "Avg_read_Score"
   ]
  },
  {
   "cell_type": "code",
   "execution_count": 7,
   "metadata": {},
   "outputs": [
    {
     "data": {
      "text/plain": [
       "74.98"
      ]
     },
     "execution_count": 7,
     "metadata": {},
     "output_type": "execute_result"
    }
   ],
   "source": [
    "#Calculate the percentage of students with a passing math score (70 or greater)\n",
    "Passmath_grade = [num for num in school_data_complete[\"math_score\"] if num >= 70]\n",
    "Passmath_percent = (len(Passmath_grade) /len(school_data_complete[\"math_score\"])) * 100\n",
    "Passmath_percent = round(Passmath_percent, 2)\n",
    "Passmath_percent"
   ]
  },
  {
   "cell_type": "code",
   "execution_count": 8,
   "metadata": {},
   "outputs": [
    {
     "data": {
      "text/plain": [
       "85.81"
      ]
     },
     "execution_count": 8,
     "metadata": {},
     "output_type": "execute_result"
    }
   ],
   "source": [
    "#Calculate the percentage of students with a passing reading score (70 or greater)\n",
    "PassRead_grade = [num for num in school_data_complete[\"reading_score\"] if num >= 70]\n",
    "PassRead_percent = (len(PassRead_grade) /len(school_data_complete[\"reading_score\"])) * 100\n",
    "PassRead_percent = round(PassRead_percent, 2)\n",
    "PassRead_percent"
   ]
  },
  {
   "cell_type": "code",
   "execution_count": 9,
   "metadata": {},
   "outputs": [
    {
     "data": {
      "text/plain": [
       "80.4"
      ]
     },
     "execution_count": 9,
     "metadata": {},
     "output_type": "execute_result"
    }
   ],
   "source": [
    "#Calculate the percentage of students who passed math and reading (% Overall Passing)\n",
    "PasspercOverall = round(((Passmath_percent + PassRead_percent)/2), 2)\n",
    "PasspercOverall"
   ]
  },
  {
   "cell_type": "code",
   "execution_count": 10,
   "metadata": {},
   "outputs": [
    {
     "data": {
      "text/html": [
       "<div>\n",
       "<style scoped>\n",
       "    .dataframe tbody tr th:only-of-type {\n",
       "        vertical-align: middle;\n",
       "    }\n",
       "\n",
       "    .dataframe tbody tr th {\n",
       "        vertical-align: top;\n",
       "    }\n",
       "\n",
       "    .dataframe thead th {\n",
       "        text-align: right;\n",
       "    }\n",
       "</style>\n",
       "<table border=\"1\" class=\"dataframe\">\n",
       "  <thead>\n",
       "    <tr style=\"text-align: right;\">\n",
       "      <th></th>\n",
       "      <th>Total Schools</th>\n",
       "      <th>Total Students</th>\n",
       "      <th>Total Budget</th>\n",
       "      <th>Average Math Score</th>\n",
       "      <th>Average Reading Score</th>\n",
       "      <th>% of Math pass</th>\n",
       "      <th>% of Reading pass</th>\n",
       "      <th>Overall Pass %</th>\n",
       "    </tr>\n",
       "  </thead>\n",
       "  <tbody>\n",
       "    <tr>\n",
       "      <th>0</th>\n",
       "      <td>15</td>\n",
       "      <td>32715</td>\n",
       "      <td>24649428</td>\n",
       "      <td>78.99</td>\n",
       "      <td>81.88</td>\n",
       "      <td>74.98</td>\n",
       "      <td>85.81</td>\n",
       "      <td>80.4</td>\n",
       "    </tr>\n",
       "  </tbody>\n",
       "</table>\n",
       "</div>"
      ],
      "text/plain": [
       "   Total Schools  Total Students  Total Budget  Average Math Score  \\\n",
       "0             15           32715      24649428               78.99   \n",
       "\n",
       "   Average Reading Score  % of Math pass  % of Reading pass  Overall Pass %  \n",
       "0                  81.88           74.98              85.81            80.4  "
      ]
     },
     "execution_count": 10,
     "metadata": {},
     "output_type": "execute_result"
    }
   ],
   "source": [
    "#Create a dataframe to hold the above results\n",
    "Summary_school_district = pd.DataFrame({\n",
    "    \"Total Schools\": [Total_Schools],\n",
    "     \"Total Students\": [Total_Students],\n",
    "    \"Total Budget\": [Total_School_budget],\n",
    "    \"Average Math Score\": [Avg_Math_Score],\n",
    "    \"Average Reading Score\": [Avg_read_Score],\n",
    "    \"% of Math pass\": [Passmath_percent],\n",
    "    \"% of Reading pass\": [PassRead_percent],\n",
    "     \"Overall Pass %\": [PasspercOverall],    \n",
    "})\n",
    "Summary_school_district"
   ]
  },
  {
   "cell_type": "markdown",
   "metadata": {},
   "source": [
    "#School Summary"
   ]
  },
  {
   "cell_type": "markdown",
   "metadata": {},
   "source": [
    "* Create an overview table that summarizes key metrics about each school, including:\n",
    "  * School Name\n",
    "  * School Type\n",
    "  * Total Students\n",
    "  * Total School Budget\n",
    "  * Per Student Budget\n",
    "  * Average Math Score\n",
    "  * Average Reading Score\n",
    "  * % Passing Math\n",
    "  * % Passing Reading\n",
    "  * % Overall Passing (The percentage of students that passed math **and** reading.)\n",
    "  \n",
    "* Create a dataframe to hold the above results"
   ]
  },
  {
   "cell_type": "code",
   "execution_count": 12,
   "metadata": {},
   "outputs": [
    {
     "data": {
      "text/plain": [
       "school_name\n",
       "Huang High School        District\n",
       "Figueroa High School     District\n",
       "Shelton High School       Charter\n",
       "Hernandez High School    District\n",
       "Griffin High School       Charter\n",
       "Wilson High School        Charter\n",
       "Cabrera High School       Charter\n",
       "Bailey High School       District\n",
       "Holden High School        Charter\n",
       "Pena High School          Charter\n",
       "Wright High School        Charter\n",
       "Rodriguez High School    District\n",
       "Johnson High School      District\n",
       "Ford High School         District\n",
       "Thomas High School        Charter\n",
       "Name: type, dtype: object"
      ]
     },
     "execution_count": 12,
     "metadata": {},
     "output_type": "execute_result"
    }
   ],
   "source": [
    "#Get the school type from the file with School name as index\n",
    "School_type = school_data_df.set_index(['school_name'])['type']\n",
    "School_type"
   ]
  },
  {
   "cell_type": "code",
   "execution_count": 13,
   "metadata": {},
   "outputs": [
    {
     "data": {
      "text/plain": [
       "Bailey High School       4976\n",
       "Johnson High School      4761\n",
       "Hernandez High School    4635\n",
       "Rodriguez High School    3999\n",
       "Figueroa High School     2949\n",
       "Huang High School        2917\n",
       "Ford High School         2739\n",
       "Wilson High School       2283\n",
       "Cabrera High School      1858\n",
       "Wright High School       1800\n",
       "Shelton High School      1761\n",
       "Thomas High School       1635\n",
       "Griffin High School      1468\n",
       "Pena High School          962\n",
       "Holden High School        427\n",
       "Name: school_name, dtype: int64"
      ]
     },
     "execution_count": 13,
     "metadata": {},
     "output_type": "execute_result"
    }
   ],
   "source": [
    "#calculate total students\n",
    "Total_students = school_data_complete['school_name'].value_counts()\n",
    "Total_students"
   ]
  },
  {
   "cell_type": "code",
   "execution_count": 15,
   "metadata": {},
   "outputs": [
    {
     "data": {
      "text/plain": [
       "school_name\n",
       "Bailey High School       3124928\n",
       "Cabrera High School      1081356\n",
       "Figueroa High School     1884411\n",
       "Ford High School         1763916\n",
       "Griffin High School       917500\n",
       "Hernandez High School    3022020\n",
       "Holden High School        248087\n",
       "Huang High School        1910635\n",
       "Johnson High School      3094650\n",
       "Pena High School          585858\n",
       "Rodriguez High School    2547363\n",
       "Shelton High School      1056600\n",
       "Thomas High School       1043130\n",
       "Wilson High School       1319574\n",
       "Wright High School       1049400\n",
       "Name: budget, dtype: int64"
      ]
     },
     "execution_count": 15,
     "metadata": {},
     "output_type": "execute_result"
    }
   ],
   "source": [
    "#Total School Budget\n",
    "school_budget = school_data_df.groupby(['school_name'])['budget'].sum()\n",
    "school_budget"
   ]
  },
  {
   "cell_type": "code",
   "execution_count": 16,
   "metadata": {},
   "outputs": [
    {
     "data": {
      "text/plain": [
       "Bailey High School       628.0\n",
       "Cabrera High School      582.0\n",
       "Figueroa High School     639.0\n",
       "Ford High School         644.0\n",
       "Griffin High School      625.0\n",
       "Hernandez High School    652.0\n",
       "Holden High School       581.0\n",
       "Huang High School        655.0\n",
       "Johnson High School      650.0\n",
       "Pena High School         609.0\n",
       "Rodriguez High School    637.0\n",
       "Shelton High School      600.0\n",
       "Thomas High School       638.0\n",
       "Wilson High School       578.0\n",
       "Wright High School       583.0\n",
       "dtype: float64"
      ]
     },
     "execution_count": 16,
     "metadata": {},
     "output_type": "execute_result"
    }
   ],
   "source": [
    "# Per Student Budget\n",
    "Per_student_budget = school_budget / Total_students\n",
    "Per_student_budget"
   ]
  },
  {
   "cell_type": "code",
   "execution_count": 17,
   "metadata": {},
   "outputs": [
    {
     "data": {
      "text/plain": [
       "school_name\n",
       "Bailey High School       77.05\n",
       "Cabrera High School      83.06\n",
       "Figueroa High School     76.71\n",
       "Ford High School         77.10\n",
       "Griffin High School      83.35\n",
       "Hernandez High School    77.29\n",
       "Holden High School       83.80\n",
       "Huang High School        76.63\n",
       "Johnson High School      77.07\n",
       "Pena High School         83.84\n",
       "Rodriguez High School    76.84\n",
       "Shelton High School      83.36\n",
       "Thomas High School       83.42\n",
       "Wilson High School       83.27\n",
       "Wright High School       83.68\n",
       "Name: math_score, dtype: float64"
      ]
     },
     "execution_count": 17,
     "metadata": {},
     "output_type": "execute_result"
    }
   ],
   "source": [
    "#Average Math Score per school\n",
    "School_Mathscore = school_data_complete.groupby(['school_name'])['math_score'].mean()\n",
    "School_Mathscore = round(School_Mathscore, 2)\n",
    "School_Mathscore"
   ]
  },
  {
   "cell_type": "code",
   "execution_count": 18,
   "metadata": {},
   "outputs": [
    {
     "data": {
      "text/plain": [
       "school_name\n",
       "Bailey High School       81.03\n",
       "Cabrera High School      83.98\n",
       "Figueroa High School     81.16\n",
       "Ford High School         80.75\n",
       "Griffin High School      83.82\n",
       "Hernandez High School    80.93\n",
       "Holden High School       83.81\n",
       "Huang High School        81.18\n",
       "Johnson High School      80.97\n",
       "Pena High School         84.04\n",
       "Rodriguez High School    80.74\n",
       "Shelton High School      83.73\n",
       "Thomas High School       83.85\n",
       "Wilson High School       83.99\n",
       "Wright High School       83.96\n",
       "Name: reading_score, dtype: float64"
      ]
     },
     "execution_count": 18,
     "metadata": {},
     "output_type": "execute_result"
    }
   ],
   "source": [
    "#Average Reading Score per school\n",
    "School_Readscore = school_data_complete.groupby(['school_name'])['reading_score'].mean()\n",
    "School_Readscore = round(School_Readscore, 2)\n",
    "School_Readscore"
   ]
  },
  {
   "cell_type": "code",
   "execution_count": 19,
   "metadata": {},
   "outputs": [
    {
     "data": {
      "text/plain": [
       "Bailey High School       66.68\n",
       "Cabrera High School      94.13\n",
       "Figueroa High School     65.99\n",
       "Ford High School         68.31\n",
       "Griffin High School      93.39\n",
       "Hernandez High School    66.75\n",
       "Holden High School       92.51\n",
       "Huang High School        65.68\n",
       "Johnson High School      66.06\n",
       "Pena High School         94.59\n",
       "Rodriguez High School    66.37\n",
       "Shelton High School      93.87\n",
       "Thomas High School       93.27\n",
       "Wilson High School       93.87\n",
       "Wright High School       93.33\n",
       "dtype: float64"
      ]
     },
     "execution_count": 19,
     "metadata": {},
     "output_type": "execute_result"
    }
   ],
   "source": [
    "#% Passing Math\n",
    "mathpass_perschool = school_data_complete[(school_data_complete['math_score'] >= 70)]\n",
    "mathpass_perschool\n",
    "# group the scores by school and calculate percentage\n",
    "school_mathpass_pct = mathpass_perschool.groupby([\"school_name\"])[\"student_name\"].count() / Total_students * 100\n",
    "school_mathpass_pct = round(school_mathpass_pct, 2)\n",
    "school_mathpass_pct"
   ]
  },
  {
   "cell_type": "code",
   "execution_count": 20,
   "metadata": {},
   "outputs": [
    {
     "data": {
      "text/plain": [
       "Bailey High School       81.93\n",
       "Cabrera High School      97.04\n",
       "Figueroa High School     80.74\n",
       "Ford High School         79.30\n",
       "Griffin High School      97.14\n",
       "Hernandez High School    80.86\n",
       "Holden High School       96.25\n",
       "Huang High School        81.32\n",
       "Johnson High School      81.22\n",
       "Pena High School         95.95\n",
       "Rodriguez High School    80.22\n",
       "Shelton High School      95.85\n",
       "Thomas High School       97.31\n",
       "Wilson High School       96.54\n",
       "Wright High School       96.61\n",
       "dtype: float64"
      ]
     },
     "execution_count": 20,
     "metadata": {},
     "output_type": "execute_result"
    }
   ],
   "source": [
    "#% Passing Reading\n",
    "Readingpass_perschool = school_data_complete[(school_data_complete['reading_score'] >= 70)]\n",
    "Readingpass_perschool\n",
    "# group the scores by school and calculate percentage\n",
    "school_readpass_pct = Readingpass_perschool.groupby([\"school_name\"])[\"student_name\"].count() / Total_students * 100\n",
    "school_readpass_pct = round(school_readpass_pct, 2)\n",
    "school_readpass_pct"
   ]
  },
  {
   "cell_type": "code",
   "execution_count": 21,
   "metadata": {},
   "outputs": [
    {
     "data": {
      "text/plain": [
       "Bailey High School       74.31\n",
       "Cabrera High School      95.58\n",
       "Figueroa High School     73.36\n",
       "Ford High School         73.81\n",
       "Griffin High School      95.26\n",
       "Hernandez High School    73.81\n",
       "Holden High School       94.38\n",
       "Huang High School        73.50\n",
       "Johnson High School      73.64\n",
       "Pena High School         95.27\n",
       "Rodriguez High School    73.30\n",
       "Shelton High School      94.86\n",
       "Thomas High School       95.29\n",
       "Wilson High School       95.21\n",
       "Wright High School       94.97\n",
       "dtype: float64"
      ]
     },
     "execution_count": 21,
     "metadata": {},
     "output_type": "execute_result"
    }
   ],
   "source": [
    "#% Overall Passing (The percentage of students that passed math and reading.)\n",
    "Overall_Schoolpassperc = (school_mathpass_pct + school_readpass_pct) / 2\n",
    "Overall_Schoolpassperc = round(Overall_Schoolpassperc, 2)\n",
    "Overall_Schoolpassperc"
   ]
  },
  {
   "cell_type": "code",
   "execution_count": 22,
   "metadata": {},
   "outputs": [
    {
     "data": {
      "text/html": [
       "<div>\n",
       "<style scoped>\n",
       "    .dataframe tbody tr th:only-of-type {\n",
       "        vertical-align: middle;\n",
       "    }\n",
       "\n",
       "    .dataframe tbody tr th {\n",
       "        vertical-align: top;\n",
       "    }\n",
       "\n",
       "    .dataframe thead th {\n",
       "        text-align: right;\n",
       "    }\n",
       "</style>\n",
       "<table border=\"1\" class=\"dataframe\">\n",
       "  <thead>\n",
       "    <tr style=\"text-align: right;\">\n",
       "      <th></th>\n",
       "      <th>School Type</th>\n",
       "      <th>Students</th>\n",
       "      <th>School Budget</th>\n",
       "      <th>Budget per Student</th>\n",
       "      <th>Average Math Score</th>\n",
       "      <th>Average Reading Score</th>\n",
       "      <th>% Passing Math</th>\n",
       "      <th>% Passing Reading</th>\n",
       "      <th>Overall Pass Rate</th>\n",
       "    </tr>\n",
       "  </thead>\n",
       "  <tbody>\n",
       "    <tr>\n",
       "      <th>Bailey High School</th>\n",
       "      <td>District</td>\n",
       "      <td>4976</td>\n",
       "      <td>3124928</td>\n",
       "      <td>628.0</td>\n",
       "      <td>77.05</td>\n",
       "      <td>81.03</td>\n",
       "      <td>66.68</td>\n",
       "      <td>81.93</td>\n",
       "      <td>74.31</td>\n",
       "    </tr>\n",
       "    <tr>\n",
       "      <th>Cabrera High School</th>\n",
       "      <td>Charter</td>\n",
       "      <td>1858</td>\n",
       "      <td>1081356</td>\n",
       "      <td>582.0</td>\n",
       "      <td>83.06</td>\n",
       "      <td>83.98</td>\n",
       "      <td>94.13</td>\n",
       "      <td>97.04</td>\n",
       "      <td>95.58</td>\n",
       "    </tr>\n",
       "    <tr>\n",
       "      <th>Figueroa High School</th>\n",
       "      <td>District</td>\n",
       "      <td>2949</td>\n",
       "      <td>1884411</td>\n",
       "      <td>639.0</td>\n",
       "      <td>76.71</td>\n",
       "      <td>81.16</td>\n",
       "      <td>65.99</td>\n",
       "      <td>80.74</td>\n",
       "      <td>73.36</td>\n",
       "    </tr>\n",
       "    <tr>\n",
       "      <th>Ford High School</th>\n",
       "      <td>District</td>\n",
       "      <td>2739</td>\n",
       "      <td>1763916</td>\n",
       "      <td>644.0</td>\n",
       "      <td>77.10</td>\n",
       "      <td>80.75</td>\n",
       "      <td>68.31</td>\n",
       "      <td>79.30</td>\n",
       "      <td>73.81</td>\n",
       "    </tr>\n",
       "    <tr>\n",
       "      <th>Griffin High School</th>\n",
       "      <td>Charter</td>\n",
       "      <td>1468</td>\n",
       "      <td>917500</td>\n",
       "      <td>625.0</td>\n",
       "      <td>83.35</td>\n",
       "      <td>83.82</td>\n",
       "      <td>93.39</td>\n",
       "      <td>97.14</td>\n",
       "      <td>95.26</td>\n",
       "    </tr>\n",
       "    <tr>\n",
       "      <th>Hernandez High School</th>\n",
       "      <td>District</td>\n",
       "      <td>4635</td>\n",
       "      <td>3022020</td>\n",
       "      <td>652.0</td>\n",
       "      <td>77.29</td>\n",
       "      <td>80.93</td>\n",
       "      <td>66.75</td>\n",
       "      <td>80.86</td>\n",
       "      <td>73.81</td>\n",
       "    </tr>\n",
       "    <tr>\n",
       "      <th>Holden High School</th>\n",
       "      <td>Charter</td>\n",
       "      <td>427</td>\n",
       "      <td>248087</td>\n",
       "      <td>581.0</td>\n",
       "      <td>83.80</td>\n",
       "      <td>83.81</td>\n",
       "      <td>92.51</td>\n",
       "      <td>96.25</td>\n",
       "      <td>94.38</td>\n",
       "    </tr>\n",
       "    <tr>\n",
       "      <th>Huang High School</th>\n",
       "      <td>District</td>\n",
       "      <td>2917</td>\n",
       "      <td>1910635</td>\n",
       "      <td>655.0</td>\n",
       "      <td>76.63</td>\n",
       "      <td>81.18</td>\n",
       "      <td>65.68</td>\n",
       "      <td>81.32</td>\n",
       "      <td>73.50</td>\n",
       "    </tr>\n",
       "    <tr>\n",
       "      <th>Johnson High School</th>\n",
       "      <td>District</td>\n",
       "      <td>4761</td>\n",
       "      <td>3094650</td>\n",
       "      <td>650.0</td>\n",
       "      <td>77.07</td>\n",
       "      <td>80.97</td>\n",
       "      <td>66.06</td>\n",
       "      <td>81.22</td>\n",
       "      <td>73.64</td>\n",
       "    </tr>\n",
       "    <tr>\n",
       "      <th>Pena High School</th>\n",
       "      <td>Charter</td>\n",
       "      <td>962</td>\n",
       "      <td>585858</td>\n",
       "      <td>609.0</td>\n",
       "      <td>83.84</td>\n",
       "      <td>84.04</td>\n",
       "      <td>94.59</td>\n",
       "      <td>95.95</td>\n",
       "      <td>95.27</td>\n",
       "    </tr>\n",
       "    <tr>\n",
       "      <th>Rodriguez High School</th>\n",
       "      <td>District</td>\n",
       "      <td>3999</td>\n",
       "      <td>2547363</td>\n",
       "      <td>637.0</td>\n",
       "      <td>76.84</td>\n",
       "      <td>80.74</td>\n",
       "      <td>66.37</td>\n",
       "      <td>80.22</td>\n",
       "      <td>73.30</td>\n",
       "    </tr>\n",
       "    <tr>\n",
       "      <th>Shelton High School</th>\n",
       "      <td>Charter</td>\n",
       "      <td>1761</td>\n",
       "      <td>1056600</td>\n",
       "      <td>600.0</td>\n",
       "      <td>83.36</td>\n",
       "      <td>83.73</td>\n",
       "      <td>93.87</td>\n",
       "      <td>95.85</td>\n",
       "      <td>94.86</td>\n",
       "    </tr>\n",
       "    <tr>\n",
       "      <th>Thomas High School</th>\n",
       "      <td>Charter</td>\n",
       "      <td>1635</td>\n",
       "      <td>1043130</td>\n",
       "      <td>638.0</td>\n",
       "      <td>83.42</td>\n",
       "      <td>83.85</td>\n",
       "      <td>93.27</td>\n",
       "      <td>97.31</td>\n",
       "      <td>95.29</td>\n",
       "    </tr>\n",
       "    <tr>\n",
       "      <th>Wilson High School</th>\n",
       "      <td>Charter</td>\n",
       "      <td>2283</td>\n",
       "      <td>1319574</td>\n",
       "      <td>578.0</td>\n",
       "      <td>83.27</td>\n",
       "      <td>83.99</td>\n",
       "      <td>93.87</td>\n",
       "      <td>96.54</td>\n",
       "      <td>95.21</td>\n",
       "    </tr>\n",
       "    <tr>\n",
       "      <th>Wright High School</th>\n",
       "      <td>Charter</td>\n",
       "      <td>1800</td>\n",
       "      <td>1049400</td>\n",
       "      <td>583.0</td>\n",
       "      <td>83.68</td>\n",
       "      <td>83.96</td>\n",
       "      <td>93.33</td>\n",
       "      <td>96.61</td>\n",
       "      <td>94.97</td>\n",
       "    </tr>\n",
       "  </tbody>\n",
       "</table>\n",
       "</div>"
      ],
      "text/plain": [
       "                      School Type  Students  School Budget  \\\n",
       "Bailey High School       District      4976        3124928   \n",
       "Cabrera High School       Charter      1858        1081356   \n",
       "Figueroa High School     District      2949        1884411   \n",
       "Ford High School         District      2739        1763916   \n",
       "Griffin High School       Charter      1468         917500   \n",
       "Hernandez High School    District      4635        3022020   \n",
       "Holden High School        Charter       427         248087   \n",
       "Huang High School        District      2917        1910635   \n",
       "Johnson High School      District      4761        3094650   \n",
       "Pena High School          Charter       962         585858   \n",
       "Rodriguez High School    District      3999        2547363   \n",
       "Shelton High School       Charter      1761        1056600   \n",
       "Thomas High School        Charter      1635        1043130   \n",
       "Wilson High School        Charter      2283        1319574   \n",
       "Wright High School        Charter      1800        1049400   \n",
       "\n",
       "                       Budget per Student  Average Math Score  \\\n",
       "Bailey High School                  628.0               77.05   \n",
       "Cabrera High School                 582.0               83.06   \n",
       "Figueroa High School                639.0               76.71   \n",
       "Ford High School                    644.0               77.10   \n",
       "Griffin High School                 625.0               83.35   \n",
       "Hernandez High School               652.0               77.29   \n",
       "Holden High School                  581.0               83.80   \n",
       "Huang High School                   655.0               76.63   \n",
       "Johnson High School                 650.0               77.07   \n",
       "Pena High School                    609.0               83.84   \n",
       "Rodriguez High School               637.0               76.84   \n",
       "Shelton High School                 600.0               83.36   \n",
       "Thomas High School                  638.0               83.42   \n",
       "Wilson High School                  578.0               83.27   \n",
       "Wright High School                  583.0               83.68   \n",
       "\n",
       "                       Average Reading Score  % Passing Math  \\\n",
       "Bailey High School                     81.03           66.68   \n",
       "Cabrera High School                    83.98           94.13   \n",
       "Figueroa High School                   81.16           65.99   \n",
       "Ford High School                       80.75           68.31   \n",
       "Griffin High School                    83.82           93.39   \n",
       "Hernandez High School                  80.93           66.75   \n",
       "Holden High School                     83.81           92.51   \n",
       "Huang High School                      81.18           65.68   \n",
       "Johnson High School                    80.97           66.06   \n",
       "Pena High School                       84.04           94.59   \n",
       "Rodriguez High School                  80.74           66.37   \n",
       "Shelton High School                    83.73           93.87   \n",
       "Thomas High School                     83.85           93.27   \n",
       "Wilson High School                     83.99           93.87   \n",
       "Wright High School                     83.96           93.33   \n",
       "\n",
       "                       % Passing Reading  Overall Pass Rate  \n",
       "Bailey High School                 81.93              74.31  \n",
       "Cabrera High School                97.04              95.58  \n",
       "Figueroa High School               80.74              73.36  \n",
       "Ford High School                   79.30              73.81  \n",
       "Griffin High School                97.14              95.26  \n",
       "Hernandez High School              80.86              73.81  \n",
       "Holden High School                 96.25              94.38  \n",
       "Huang High School                  81.32              73.50  \n",
       "Johnson High School                81.22              73.64  \n",
       "Pena High School                   95.95              95.27  \n",
       "Rodriguez High School              80.22              73.30  \n",
       "Shelton High School                95.85              94.86  \n",
       "Thomas High School                 97.31              95.29  \n",
       "Wilson High School                 96.54              95.21  \n",
       "Wright High School                 96.61              94.97  "
      ]
     },
     "execution_count": 22,
     "metadata": {},
     "output_type": "execute_result"
    }
   ],
   "source": [
    "#Create a dataframe to hold school summary\n",
    "School_Summary = pd.DataFrame({\n",
    "    \"School Type\": School_type,\n",
    "    \"Students\": Total_students,\n",
    "    \"School Budget\": school_budget,\n",
    "    \"Budget per Student\": Per_student_budget,\n",
    "    \"Average Math Score\": School_Mathscore,\n",
    "    \"Average Reading Score\": School_Readscore,\n",
    "    \"% Passing Math\": school_mathpass_pct,\n",
    "    \"% Passing Reading\": school_readpass_pct,\n",
    "    \"Overall Pass Rate\": Overall_Schoolpassperc    \n",
    "})\n",
    "School_Summary"
   ]
  },
  {
   "cell_type": "markdown",
   "metadata": {},
   "source": [
    "## Top Performing Schools (By % Overall Passing)"
   ]
  },
  {
   "cell_type": "markdown",
   "metadata": {},
   "source": [
    "* Sort and display the top five performing schools by % overall passing."
   ]
  },
  {
   "cell_type": "code",
   "execution_count": 24,
   "metadata": {
    "scrolled": true
   },
   "outputs": [
    {
     "data": {
      "text/html": [
       "<div>\n",
       "<style scoped>\n",
       "    .dataframe tbody tr th:only-of-type {\n",
       "        vertical-align: middle;\n",
       "    }\n",
       "\n",
       "    .dataframe tbody tr th {\n",
       "        vertical-align: top;\n",
       "    }\n",
       "\n",
       "    .dataframe thead th {\n",
       "        text-align: right;\n",
       "    }\n",
       "</style>\n",
       "<table border=\"1\" class=\"dataframe\">\n",
       "  <thead>\n",
       "    <tr style=\"text-align: right;\">\n",
       "      <th></th>\n",
       "      <th>School Type</th>\n",
       "      <th>Students</th>\n",
       "      <th>School Budget</th>\n",
       "      <th>Budget per Student</th>\n",
       "      <th>Average Math Score</th>\n",
       "      <th>Average Reading Score</th>\n",
       "      <th>% Passing Math</th>\n",
       "      <th>% Passing Reading</th>\n",
       "      <th>Overall Pass Rate</th>\n",
       "    </tr>\n",
       "  </thead>\n",
       "  <tbody>\n",
       "    <tr>\n",
       "      <th>Cabrera High School</th>\n",
       "      <td>Charter</td>\n",
       "      <td>1858</td>\n",
       "      <td>1081356</td>\n",
       "      <td>582.0</td>\n",
       "      <td>83.06</td>\n",
       "      <td>83.98</td>\n",
       "      <td>94.13</td>\n",
       "      <td>97.04</td>\n",
       "      <td>95.58</td>\n",
       "    </tr>\n",
       "    <tr>\n",
       "      <th>Thomas High School</th>\n",
       "      <td>Charter</td>\n",
       "      <td>1635</td>\n",
       "      <td>1043130</td>\n",
       "      <td>638.0</td>\n",
       "      <td>83.42</td>\n",
       "      <td>83.85</td>\n",
       "      <td>93.27</td>\n",
       "      <td>97.31</td>\n",
       "      <td>95.29</td>\n",
       "    </tr>\n",
       "    <tr>\n",
       "      <th>Pena High School</th>\n",
       "      <td>Charter</td>\n",
       "      <td>962</td>\n",
       "      <td>585858</td>\n",
       "      <td>609.0</td>\n",
       "      <td>83.84</td>\n",
       "      <td>84.04</td>\n",
       "      <td>94.59</td>\n",
       "      <td>95.95</td>\n",
       "      <td>95.27</td>\n",
       "    </tr>\n",
       "    <tr>\n",
       "      <th>Griffin High School</th>\n",
       "      <td>Charter</td>\n",
       "      <td>1468</td>\n",
       "      <td>917500</td>\n",
       "      <td>625.0</td>\n",
       "      <td>83.35</td>\n",
       "      <td>83.82</td>\n",
       "      <td>93.39</td>\n",
       "      <td>97.14</td>\n",
       "      <td>95.26</td>\n",
       "    </tr>\n",
       "    <tr>\n",
       "      <th>Wilson High School</th>\n",
       "      <td>Charter</td>\n",
       "      <td>2283</td>\n",
       "      <td>1319574</td>\n",
       "      <td>578.0</td>\n",
       "      <td>83.27</td>\n",
       "      <td>83.99</td>\n",
       "      <td>93.87</td>\n",
       "      <td>96.54</td>\n",
       "      <td>95.21</td>\n",
       "    </tr>\n",
       "  </tbody>\n",
       "</table>\n",
       "</div>"
      ],
      "text/plain": [
       "                    School Type  Students  School Budget  Budget per Student  \\\n",
       "Cabrera High School     Charter      1858        1081356               582.0   \n",
       "Thomas High School      Charter      1635        1043130               638.0   \n",
       "Pena High School        Charter       962         585858               609.0   \n",
       "Griffin High School     Charter      1468         917500               625.0   \n",
       "Wilson High School      Charter      2283        1319574               578.0   \n",
       "\n",
       "                     Average Math Score  Average Reading Score  \\\n",
       "Cabrera High School               83.06                  83.98   \n",
       "Thomas High School                83.42                  83.85   \n",
       "Pena High School                  83.84                  84.04   \n",
       "Griffin High School               83.35                  83.82   \n",
       "Wilson High School                83.27                  83.99   \n",
       "\n",
       "                     % Passing Math  % Passing Reading  Overall Pass Rate  \n",
       "Cabrera High School           94.13              97.04              95.58  \n",
       "Thomas High School            93.27              97.31              95.29  \n",
       "Pena High School              94.59              95.95              95.27  \n",
       "Griffin High School           93.39              97.14              95.26  \n",
       "Wilson High School            93.87              96.54              95.21  "
      ]
     },
     "execution_count": 24,
     "metadata": {},
     "output_type": "execute_result"
    }
   ],
   "source": [
    "#Highest-Performing Schools (by % Overall Passing)\n",
    "Top_Schools = School_Summary.sort_values(\"Overall Pass Rate\", ascending=False)\n",
    "Top_Schools.head()"
   ]
  },
  {
   "cell_type": "markdown",
   "metadata": {},
   "source": [
    "## Bottom Performing Schools (By % Overall Passing)"
   ]
  },
  {
   "cell_type": "markdown",
   "metadata": {},
   "source": [
    "* Sort and display the five worst-performing schools by % overall passing."
   ]
  },
  {
   "cell_type": "code",
   "execution_count": 25,
   "metadata": {},
   "outputs": [
    {
     "data": {
      "text/html": [
       "<div>\n",
       "<style scoped>\n",
       "    .dataframe tbody tr th:only-of-type {\n",
       "        vertical-align: middle;\n",
       "    }\n",
       "\n",
       "    .dataframe tbody tr th {\n",
       "        vertical-align: top;\n",
       "    }\n",
       "\n",
       "    .dataframe thead th {\n",
       "        text-align: right;\n",
       "    }\n",
       "</style>\n",
       "<table border=\"1\" class=\"dataframe\">\n",
       "  <thead>\n",
       "    <tr style=\"text-align: right;\">\n",
       "      <th></th>\n",
       "      <th>School Type</th>\n",
       "      <th>Students</th>\n",
       "      <th>School Budget</th>\n",
       "      <th>Budget per Student</th>\n",
       "      <th>Average Math Score</th>\n",
       "      <th>Average Reading Score</th>\n",
       "      <th>% Passing Math</th>\n",
       "      <th>% Passing Reading</th>\n",
       "      <th>Overall Pass Rate</th>\n",
       "    </tr>\n",
       "  </thead>\n",
       "  <tbody>\n",
       "    <tr>\n",
       "      <th>Rodriguez High School</th>\n",
       "      <td>District</td>\n",
       "      <td>3999</td>\n",
       "      <td>2547363</td>\n",
       "      <td>637.0</td>\n",
       "      <td>76.84</td>\n",
       "      <td>80.74</td>\n",
       "      <td>66.37</td>\n",
       "      <td>80.22</td>\n",
       "      <td>73.30</td>\n",
       "    </tr>\n",
       "    <tr>\n",
       "      <th>Figueroa High School</th>\n",
       "      <td>District</td>\n",
       "      <td>2949</td>\n",
       "      <td>1884411</td>\n",
       "      <td>639.0</td>\n",
       "      <td>76.71</td>\n",
       "      <td>81.16</td>\n",
       "      <td>65.99</td>\n",
       "      <td>80.74</td>\n",
       "      <td>73.36</td>\n",
       "    </tr>\n",
       "    <tr>\n",
       "      <th>Huang High School</th>\n",
       "      <td>District</td>\n",
       "      <td>2917</td>\n",
       "      <td>1910635</td>\n",
       "      <td>655.0</td>\n",
       "      <td>76.63</td>\n",
       "      <td>81.18</td>\n",
       "      <td>65.68</td>\n",
       "      <td>81.32</td>\n",
       "      <td>73.50</td>\n",
       "    </tr>\n",
       "    <tr>\n",
       "      <th>Johnson High School</th>\n",
       "      <td>District</td>\n",
       "      <td>4761</td>\n",
       "      <td>3094650</td>\n",
       "      <td>650.0</td>\n",
       "      <td>77.07</td>\n",
       "      <td>80.97</td>\n",
       "      <td>66.06</td>\n",
       "      <td>81.22</td>\n",
       "      <td>73.64</td>\n",
       "    </tr>\n",
       "    <tr>\n",
       "      <th>Ford High School</th>\n",
       "      <td>District</td>\n",
       "      <td>2739</td>\n",
       "      <td>1763916</td>\n",
       "      <td>644.0</td>\n",
       "      <td>77.10</td>\n",
       "      <td>80.75</td>\n",
       "      <td>68.31</td>\n",
       "      <td>79.30</td>\n",
       "      <td>73.81</td>\n",
       "    </tr>\n",
       "  </tbody>\n",
       "</table>\n",
       "</div>"
      ],
      "text/plain": [
       "                      School Type  Students  School Budget  \\\n",
       "Rodriguez High School    District      3999        2547363   \n",
       "Figueroa High School     District      2949        1884411   \n",
       "Huang High School        District      2917        1910635   \n",
       "Johnson High School      District      4761        3094650   \n",
       "Ford High School         District      2739        1763916   \n",
       "\n",
       "                       Budget per Student  Average Math Score  \\\n",
       "Rodriguez High School               637.0               76.84   \n",
       "Figueroa High School                639.0               76.71   \n",
       "Huang High School                   655.0               76.63   \n",
       "Johnson High School                 650.0               77.07   \n",
       "Ford High School                    644.0               77.10   \n",
       "\n",
       "                       Average Reading Score  % Passing Math  \\\n",
       "Rodriguez High School                  80.74           66.37   \n",
       "Figueroa High School                   81.16           65.99   \n",
       "Huang High School                      81.18           65.68   \n",
       "Johnson High School                    80.97           66.06   \n",
       "Ford High School                       80.75           68.31   \n",
       "\n",
       "                       % Passing Reading  Overall Pass Rate  \n",
       "Rodriguez High School              80.22              73.30  \n",
       "Figueroa High School               80.74              73.36  \n",
       "Huang High School                  81.32              73.50  \n",
       "Johnson High School                81.22              73.64  \n",
       "Ford High School                   79.30              73.81  "
      ]
     },
     "execution_count": 25,
     "metadata": {},
     "output_type": "execute_result"
    }
   ],
   "source": [
    "#Lowest-Performing Schools (by % Overall Passing)\n",
    "Bottom_Schools = School_Summary.sort_values(\"Overall Pass Rate\", ascending=True)\n",
    "Bottom_Schools.head()"
   ]
  },
  {
   "cell_type": "markdown",
   "metadata": {
    "collapsed": true
   },
   "source": [
    "## Math Scores by Grade"
   ]
  },
  {
   "cell_type": "markdown",
   "metadata": {},
   "source": [
    "* Create a table that lists the average Reading Score for students of each grade level (9th, 10th, 11th, 12th) at each school.\n",
    "\n",
    "  * Create a pandas series for each grade. Hint: use a conditional statement.\n",
    "  \n",
    "  * Group each series by school\n",
    "  \n",
    "  * Combine the series into a dataframe\n",
    "  \n",
    "  * Optional: give the displayed data cleaner formatting"
   ]
  },
  {
   "cell_type": "code",
   "execution_count": 26,
   "metadata": {},
   "outputs": [
    {
     "data": {
      "text/html": [
       "<style  type=\"text/css\" >\n",
       "</style><table id=\"T_639f613a_4745_11ed_a688_8cb87e02939b\" ><thead>    <tr>        <th class=\"blank level0\" ></th>        <th class=\"col_heading level0 col0\" >9th</th>        <th class=\"col_heading level0 col1\" >10th</th>        <th class=\"col_heading level0 col2\" >11th</th>        <th class=\"col_heading level0 col3\" >12th</th>    </tr>    <tr>        <th class=\"index_name level0\" >school_name</th>        <th class=\"blank\" ></th>        <th class=\"blank\" ></th>        <th class=\"blank\" ></th>        <th class=\"blank\" ></th>    </tr></thead><tbody>\n",
       "                <tr>\n",
       "                        <th id=\"T_639f613a_4745_11ed_a688_8cb87e02939blevel0_row0\" class=\"row_heading level0 row0\" >Bailey High School</th>\n",
       "                        <td id=\"T_639f613a_4745_11ed_a688_8cb87e02939brow0_col0\" class=\"data row0 col0\" >77.1</td>\n",
       "                        <td id=\"T_639f613a_4745_11ed_a688_8cb87e02939brow0_col1\" class=\"data row0 col1\" >77.0</td>\n",
       "                        <td id=\"T_639f613a_4745_11ed_a688_8cb87e02939brow0_col2\" class=\"data row0 col2\" >77.5</td>\n",
       "                        <td id=\"T_639f613a_4745_11ed_a688_8cb87e02939brow0_col3\" class=\"data row0 col3\" >76.5</td>\n",
       "            </tr>\n",
       "            <tr>\n",
       "                        <th id=\"T_639f613a_4745_11ed_a688_8cb87e02939blevel0_row1\" class=\"row_heading level0 row1\" >Cabrera High School</th>\n",
       "                        <td id=\"T_639f613a_4745_11ed_a688_8cb87e02939brow1_col0\" class=\"data row1 col0\" >83.1</td>\n",
       "                        <td id=\"T_639f613a_4745_11ed_a688_8cb87e02939brow1_col1\" class=\"data row1 col1\" >83.2</td>\n",
       "                        <td id=\"T_639f613a_4745_11ed_a688_8cb87e02939brow1_col2\" class=\"data row1 col2\" >82.8</td>\n",
       "                        <td id=\"T_639f613a_4745_11ed_a688_8cb87e02939brow1_col3\" class=\"data row1 col3\" >83.3</td>\n",
       "            </tr>\n",
       "            <tr>\n",
       "                        <th id=\"T_639f613a_4745_11ed_a688_8cb87e02939blevel0_row2\" class=\"row_heading level0 row2\" >Figueroa High School</th>\n",
       "                        <td id=\"T_639f613a_4745_11ed_a688_8cb87e02939brow2_col0\" class=\"data row2 col0\" >76.4</td>\n",
       "                        <td id=\"T_639f613a_4745_11ed_a688_8cb87e02939brow2_col1\" class=\"data row2 col1\" >76.5</td>\n",
       "                        <td id=\"T_639f613a_4745_11ed_a688_8cb87e02939brow2_col2\" class=\"data row2 col2\" >76.9</td>\n",
       "                        <td id=\"T_639f613a_4745_11ed_a688_8cb87e02939brow2_col3\" class=\"data row2 col3\" >77.2</td>\n",
       "            </tr>\n",
       "            <tr>\n",
       "                        <th id=\"T_639f613a_4745_11ed_a688_8cb87e02939blevel0_row3\" class=\"row_heading level0 row3\" >Ford High School</th>\n",
       "                        <td id=\"T_639f613a_4745_11ed_a688_8cb87e02939brow3_col0\" class=\"data row3 col0\" >77.4</td>\n",
       "                        <td id=\"T_639f613a_4745_11ed_a688_8cb87e02939brow3_col1\" class=\"data row3 col1\" >77.7</td>\n",
       "                        <td id=\"T_639f613a_4745_11ed_a688_8cb87e02939brow3_col2\" class=\"data row3 col2\" >76.9</td>\n",
       "                        <td id=\"T_639f613a_4745_11ed_a688_8cb87e02939brow3_col3\" class=\"data row3 col3\" >76.2</td>\n",
       "            </tr>\n",
       "            <tr>\n",
       "                        <th id=\"T_639f613a_4745_11ed_a688_8cb87e02939blevel0_row4\" class=\"row_heading level0 row4\" >Griffin High School</th>\n",
       "                        <td id=\"T_639f613a_4745_11ed_a688_8cb87e02939brow4_col0\" class=\"data row4 col0\" >82.0</td>\n",
       "                        <td id=\"T_639f613a_4745_11ed_a688_8cb87e02939brow4_col1\" class=\"data row4 col1\" >84.2</td>\n",
       "                        <td id=\"T_639f613a_4745_11ed_a688_8cb87e02939brow4_col2\" class=\"data row4 col2\" >83.8</td>\n",
       "                        <td id=\"T_639f613a_4745_11ed_a688_8cb87e02939brow4_col3\" class=\"data row4 col3\" >83.4</td>\n",
       "            </tr>\n",
       "            <tr>\n",
       "                        <th id=\"T_639f613a_4745_11ed_a688_8cb87e02939blevel0_row5\" class=\"row_heading level0 row5\" >Hernandez High School</th>\n",
       "                        <td id=\"T_639f613a_4745_11ed_a688_8cb87e02939brow5_col0\" class=\"data row5 col0\" >77.4</td>\n",
       "                        <td id=\"T_639f613a_4745_11ed_a688_8cb87e02939brow5_col1\" class=\"data row5 col1\" >77.3</td>\n",
       "                        <td id=\"T_639f613a_4745_11ed_a688_8cb87e02939brow5_col2\" class=\"data row5 col2\" >77.1</td>\n",
       "                        <td id=\"T_639f613a_4745_11ed_a688_8cb87e02939brow5_col3\" class=\"data row5 col3\" >77.2</td>\n",
       "            </tr>\n",
       "            <tr>\n",
       "                        <th id=\"T_639f613a_4745_11ed_a688_8cb87e02939blevel0_row6\" class=\"row_heading level0 row6\" >Holden High School</th>\n",
       "                        <td id=\"T_639f613a_4745_11ed_a688_8cb87e02939brow6_col0\" class=\"data row6 col0\" >83.8</td>\n",
       "                        <td id=\"T_639f613a_4745_11ed_a688_8cb87e02939brow6_col1\" class=\"data row6 col1\" >83.4</td>\n",
       "                        <td id=\"T_639f613a_4745_11ed_a688_8cb87e02939brow6_col2\" class=\"data row6 col2\" >85.0</td>\n",
       "                        <td id=\"T_639f613a_4745_11ed_a688_8cb87e02939brow6_col3\" class=\"data row6 col3\" >82.9</td>\n",
       "            </tr>\n",
       "            <tr>\n",
       "                        <th id=\"T_639f613a_4745_11ed_a688_8cb87e02939blevel0_row7\" class=\"row_heading level0 row7\" >Huang High School</th>\n",
       "                        <td id=\"T_639f613a_4745_11ed_a688_8cb87e02939brow7_col0\" class=\"data row7 col0\" >77.0</td>\n",
       "                        <td id=\"T_639f613a_4745_11ed_a688_8cb87e02939brow7_col1\" class=\"data row7 col1\" >75.9</td>\n",
       "                        <td id=\"T_639f613a_4745_11ed_a688_8cb87e02939brow7_col2\" class=\"data row7 col2\" >76.4</td>\n",
       "                        <td id=\"T_639f613a_4745_11ed_a688_8cb87e02939brow7_col3\" class=\"data row7 col3\" >77.2</td>\n",
       "            </tr>\n",
       "            <tr>\n",
       "                        <th id=\"T_639f613a_4745_11ed_a688_8cb87e02939blevel0_row8\" class=\"row_heading level0 row8\" >Johnson High School</th>\n",
       "                        <td id=\"T_639f613a_4745_11ed_a688_8cb87e02939brow8_col0\" class=\"data row8 col0\" >77.2</td>\n",
       "                        <td id=\"T_639f613a_4745_11ed_a688_8cb87e02939brow8_col1\" class=\"data row8 col1\" >76.7</td>\n",
       "                        <td id=\"T_639f613a_4745_11ed_a688_8cb87e02939brow8_col2\" class=\"data row8 col2\" >77.5</td>\n",
       "                        <td id=\"T_639f613a_4745_11ed_a688_8cb87e02939brow8_col3\" class=\"data row8 col3\" >76.9</td>\n",
       "            </tr>\n",
       "            <tr>\n",
       "                        <th id=\"T_639f613a_4745_11ed_a688_8cb87e02939blevel0_row9\" class=\"row_heading level0 row9\" >Pena High School</th>\n",
       "                        <td id=\"T_639f613a_4745_11ed_a688_8cb87e02939brow9_col0\" class=\"data row9 col0\" >83.6</td>\n",
       "                        <td id=\"T_639f613a_4745_11ed_a688_8cb87e02939brow9_col1\" class=\"data row9 col1\" >83.4</td>\n",
       "                        <td id=\"T_639f613a_4745_11ed_a688_8cb87e02939brow9_col2\" class=\"data row9 col2\" >84.3</td>\n",
       "                        <td id=\"T_639f613a_4745_11ed_a688_8cb87e02939brow9_col3\" class=\"data row9 col3\" >84.1</td>\n",
       "            </tr>\n",
       "            <tr>\n",
       "                        <th id=\"T_639f613a_4745_11ed_a688_8cb87e02939blevel0_row10\" class=\"row_heading level0 row10\" >Rodriguez High School</th>\n",
       "                        <td id=\"T_639f613a_4745_11ed_a688_8cb87e02939brow10_col0\" class=\"data row10 col0\" >76.9</td>\n",
       "                        <td id=\"T_639f613a_4745_11ed_a688_8cb87e02939brow10_col1\" class=\"data row10 col1\" >76.6</td>\n",
       "                        <td id=\"T_639f613a_4745_11ed_a688_8cb87e02939brow10_col2\" class=\"data row10 col2\" >76.4</td>\n",
       "                        <td id=\"T_639f613a_4745_11ed_a688_8cb87e02939brow10_col3\" class=\"data row10 col3\" >77.7</td>\n",
       "            </tr>\n",
       "            <tr>\n",
       "                        <th id=\"T_639f613a_4745_11ed_a688_8cb87e02939blevel0_row11\" class=\"row_heading level0 row11\" >Shelton High School</th>\n",
       "                        <td id=\"T_639f613a_4745_11ed_a688_8cb87e02939brow11_col0\" class=\"data row11 col0\" >83.4</td>\n",
       "                        <td id=\"T_639f613a_4745_11ed_a688_8cb87e02939brow11_col1\" class=\"data row11 col1\" >82.9</td>\n",
       "                        <td id=\"T_639f613a_4745_11ed_a688_8cb87e02939brow11_col2\" class=\"data row11 col2\" >83.4</td>\n",
       "                        <td id=\"T_639f613a_4745_11ed_a688_8cb87e02939brow11_col3\" class=\"data row11 col3\" >83.8</td>\n",
       "            </tr>\n",
       "            <tr>\n",
       "                        <th id=\"T_639f613a_4745_11ed_a688_8cb87e02939blevel0_row12\" class=\"row_heading level0 row12\" >Thomas High School</th>\n",
       "                        <td id=\"T_639f613a_4745_11ed_a688_8cb87e02939brow12_col0\" class=\"data row12 col0\" >83.6</td>\n",
       "                        <td id=\"T_639f613a_4745_11ed_a688_8cb87e02939brow12_col1\" class=\"data row12 col1\" >83.1</td>\n",
       "                        <td id=\"T_639f613a_4745_11ed_a688_8cb87e02939brow12_col2\" class=\"data row12 col2\" >83.5</td>\n",
       "                        <td id=\"T_639f613a_4745_11ed_a688_8cb87e02939brow12_col3\" class=\"data row12 col3\" >83.5</td>\n",
       "            </tr>\n",
       "            <tr>\n",
       "                        <th id=\"T_639f613a_4745_11ed_a688_8cb87e02939blevel0_row13\" class=\"row_heading level0 row13\" >Wilson High School</th>\n",
       "                        <td id=\"T_639f613a_4745_11ed_a688_8cb87e02939brow13_col0\" class=\"data row13 col0\" >83.1</td>\n",
       "                        <td id=\"T_639f613a_4745_11ed_a688_8cb87e02939brow13_col1\" class=\"data row13 col1\" >83.7</td>\n",
       "                        <td id=\"T_639f613a_4745_11ed_a688_8cb87e02939brow13_col2\" class=\"data row13 col2\" >83.2</td>\n",
       "                        <td id=\"T_639f613a_4745_11ed_a688_8cb87e02939brow13_col3\" class=\"data row13 col3\" >83.0</td>\n",
       "            </tr>\n",
       "            <tr>\n",
       "                        <th id=\"T_639f613a_4745_11ed_a688_8cb87e02939blevel0_row14\" class=\"row_heading level0 row14\" >Wright High School</th>\n",
       "                        <td id=\"T_639f613a_4745_11ed_a688_8cb87e02939brow14_col0\" class=\"data row14 col0\" >83.3</td>\n",
       "                        <td id=\"T_639f613a_4745_11ed_a688_8cb87e02939brow14_col1\" class=\"data row14 col1\" >84.0</td>\n",
       "                        <td id=\"T_639f613a_4745_11ed_a688_8cb87e02939brow14_col2\" class=\"data row14 col2\" >83.8</td>\n",
       "                        <td id=\"T_639f613a_4745_11ed_a688_8cb87e02939brow14_col3\" class=\"data row14 col3\" >83.6</td>\n",
       "            </tr>\n",
       "    </tbody></table>"
      ],
      "text/plain": [
       "<pandas.io.formats.style.Styler at 0x2142749d648>"
      ]
     },
     "execution_count": 26,
     "metadata": {},
     "output_type": "execute_result"
    }
   ],
   "source": [
    "#the average math Score for students of each grade level (9th, 10th, 11th, 12th) at each school\n",
    "#creates grade level average math scores for each school \n",
    "Ninth_mathscore = student_data_df.loc[student_data_df['grade'] == '9th'].groupby('school_name')[\"math_score\"].mean()\n",
    "Tenth_mathscore = student_data_df.loc[student_data_df['grade'] == '10th'].groupby('school_name')[\"math_score\"].mean()\n",
    "Eleventh_mathscore = student_data_df.loc[student_data_df['grade'] == '11th'].groupby('school_name')[\"math_score\"].mean()\n",
    "Twelvth_mathscore = student_data_df.loc[student_data_df['grade'] == '12th'].groupby('school_name')[\"math_score\"].mean()\n",
    "\n",
    "math_scores = pd.DataFrame({\n",
    "        \"9th\": Ninth_mathscore,\n",
    "        \"10th\": Tenth_mathscore,\n",
    "        \"11th\": Eleventh_mathscore,\n",
    "        \"12th\": Twelvth_mathscore\n",
    "})\n",
    "math_scores = math_scores[['9th', '10th', '11th', '12th']]\n",
    "math_scores.index.name = \"school_name\"\n",
    "\n",
    "#show and format\n",
    "math_scores.style.format({'9th': '{:.1f}', \n",
    "                          \"10th\": '{:.1f}', \n",
    "                          \"11th\": \"{:.1f}\", \n",
    "                          \"12th\": \"{:.1f}\"})"
   ]
  },
  {
   "cell_type": "markdown",
   "metadata": {},
   "source": [
    "## Reading Score by Grade "
   ]
  },
  {
   "cell_type": "markdown",
   "metadata": {},
   "source": [
    "* Perform the same operations as above for reading scores"
   ]
  },
  {
   "cell_type": "code",
   "execution_count": 27,
   "metadata": {},
   "outputs": [
    {
     "data": {
      "text/html": [
       "<style  type=\"text/css\" >\n",
       "</style><table id=\"T_63acce68_4745_11ed_afff_8cb87e02939b\" ><thead>    <tr>        <th class=\"blank level0\" ></th>        <th class=\"col_heading level0 col0\" >9th</th>        <th class=\"col_heading level0 col1\" >10th</th>        <th class=\"col_heading level0 col2\" >11th</th>        <th class=\"col_heading level0 col3\" >12th</th>    </tr>    <tr>        <th class=\"index_name level0\" >School</th>        <th class=\"blank\" ></th>        <th class=\"blank\" ></th>        <th class=\"blank\" ></th>        <th class=\"blank\" ></th>    </tr></thead><tbody>\n",
       "                <tr>\n",
       "                        <th id=\"T_63acce68_4745_11ed_afff_8cb87e02939blevel0_row0\" class=\"row_heading level0 row0\" >Bailey High School</th>\n",
       "                        <td id=\"T_63acce68_4745_11ed_afff_8cb87e02939brow0_col0\" class=\"data row0 col0\" >81.3</td>\n",
       "                        <td id=\"T_63acce68_4745_11ed_afff_8cb87e02939brow0_col1\" class=\"data row0 col1\" >80.9</td>\n",
       "                        <td id=\"T_63acce68_4745_11ed_afff_8cb87e02939brow0_col2\" class=\"data row0 col2\" >80.9</td>\n",
       "                        <td id=\"T_63acce68_4745_11ed_afff_8cb87e02939brow0_col3\" class=\"data row0 col3\" >80.9</td>\n",
       "            </tr>\n",
       "            <tr>\n",
       "                        <th id=\"T_63acce68_4745_11ed_afff_8cb87e02939blevel0_row1\" class=\"row_heading level0 row1\" >Cabrera High School</th>\n",
       "                        <td id=\"T_63acce68_4745_11ed_afff_8cb87e02939brow1_col0\" class=\"data row1 col0\" >83.7</td>\n",
       "                        <td id=\"T_63acce68_4745_11ed_afff_8cb87e02939brow1_col1\" class=\"data row1 col1\" >84.3</td>\n",
       "                        <td id=\"T_63acce68_4745_11ed_afff_8cb87e02939brow1_col2\" class=\"data row1 col2\" >83.8</td>\n",
       "                        <td id=\"T_63acce68_4745_11ed_afff_8cb87e02939brow1_col3\" class=\"data row1 col3\" >84.3</td>\n",
       "            </tr>\n",
       "            <tr>\n",
       "                        <th id=\"T_63acce68_4745_11ed_afff_8cb87e02939blevel0_row2\" class=\"row_heading level0 row2\" >Figueroa High School</th>\n",
       "                        <td id=\"T_63acce68_4745_11ed_afff_8cb87e02939brow2_col0\" class=\"data row2 col0\" >81.2</td>\n",
       "                        <td id=\"T_63acce68_4745_11ed_afff_8cb87e02939brow2_col1\" class=\"data row2 col1\" >81.4</td>\n",
       "                        <td id=\"T_63acce68_4745_11ed_afff_8cb87e02939brow2_col2\" class=\"data row2 col2\" >80.6</td>\n",
       "                        <td id=\"T_63acce68_4745_11ed_afff_8cb87e02939brow2_col3\" class=\"data row2 col3\" >81.4</td>\n",
       "            </tr>\n",
       "            <tr>\n",
       "                        <th id=\"T_63acce68_4745_11ed_afff_8cb87e02939blevel0_row3\" class=\"row_heading level0 row3\" >Ford High School</th>\n",
       "                        <td id=\"T_63acce68_4745_11ed_afff_8cb87e02939brow3_col0\" class=\"data row3 col0\" >80.6</td>\n",
       "                        <td id=\"T_63acce68_4745_11ed_afff_8cb87e02939brow3_col1\" class=\"data row3 col1\" >81.3</td>\n",
       "                        <td id=\"T_63acce68_4745_11ed_afff_8cb87e02939brow3_col2\" class=\"data row3 col2\" >80.4</td>\n",
       "                        <td id=\"T_63acce68_4745_11ed_afff_8cb87e02939brow3_col3\" class=\"data row3 col3\" >80.7</td>\n",
       "            </tr>\n",
       "            <tr>\n",
       "                        <th id=\"T_63acce68_4745_11ed_afff_8cb87e02939blevel0_row4\" class=\"row_heading level0 row4\" >Griffin High School</th>\n",
       "                        <td id=\"T_63acce68_4745_11ed_afff_8cb87e02939brow4_col0\" class=\"data row4 col0\" >83.4</td>\n",
       "                        <td id=\"T_63acce68_4745_11ed_afff_8cb87e02939brow4_col1\" class=\"data row4 col1\" >83.7</td>\n",
       "                        <td id=\"T_63acce68_4745_11ed_afff_8cb87e02939brow4_col2\" class=\"data row4 col2\" >84.3</td>\n",
       "                        <td id=\"T_63acce68_4745_11ed_afff_8cb87e02939brow4_col3\" class=\"data row4 col3\" >84.0</td>\n",
       "            </tr>\n",
       "            <tr>\n",
       "                        <th id=\"T_63acce68_4745_11ed_afff_8cb87e02939blevel0_row5\" class=\"row_heading level0 row5\" >Hernandez High School</th>\n",
       "                        <td id=\"T_63acce68_4745_11ed_afff_8cb87e02939brow5_col0\" class=\"data row5 col0\" >80.9</td>\n",
       "                        <td id=\"T_63acce68_4745_11ed_afff_8cb87e02939brow5_col1\" class=\"data row5 col1\" >80.7</td>\n",
       "                        <td id=\"T_63acce68_4745_11ed_afff_8cb87e02939brow5_col2\" class=\"data row5 col2\" >81.4</td>\n",
       "                        <td id=\"T_63acce68_4745_11ed_afff_8cb87e02939brow5_col3\" class=\"data row5 col3\" >80.9</td>\n",
       "            </tr>\n",
       "            <tr>\n",
       "                        <th id=\"T_63acce68_4745_11ed_afff_8cb87e02939blevel0_row6\" class=\"row_heading level0 row6\" >Holden High School</th>\n",
       "                        <td id=\"T_63acce68_4745_11ed_afff_8cb87e02939brow6_col0\" class=\"data row6 col0\" >83.7</td>\n",
       "                        <td id=\"T_63acce68_4745_11ed_afff_8cb87e02939brow6_col1\" class=\"data row6 col1\" >83.3</td>\n",
       "                        <td id=\"T_63acce68_4745_11ed_afff_8cb87e02939brow6_col2\" class=\"data row6 col2\" >83.8</td>\n",
       "                        <td id=\"T_63acce68_4745_11ed_afff_8cb87e02939brow6_col3\" class=\"data row6 col3\" >84.7</td>\n",
       "            </tr>\n",
       "            <tr>\n",
       "                        <th id=\"T_63acce68_4745_11ed_afff_8cb87e02939blevel0_row7\" class=\"row_heading level0 row7\" >Huang High School</th>\n",
       "                        <td id=\"T_63acce68_4745_11ed_afff_8cb87e02939brow7_col0\" class=\"data row7 col0\" >81.3</td>\n",
       "                        <td id=\"T_63acce68_4745_11ed_afff_8cb87e02939brow7_col1\" class=\"data row7 col1\" >81.5</td>\n",
       "                        <td id=\"T_63acce68_4745_11ed_afff_8cb87e02939brow7_col2\" class=\"data row7 col2\" >81.4</td>\n",
       "                        <td id=\"T_63acce68_4745_11ed_afff_8cb87e02939brow7_col3\" class=\"data row7 col3\" >80.3</td>\n",
       "            </tr>\n",
       "            <tr>\n",
       "                        <th id=\"T_63acce68_4745_11ed_afff_8cb87e02939blevel0_row8\" class=\"row_heading level0 row8\" >Johnson High School</th>\n",
       "                        <td id=\"T_63acce68_4745_11ed_afff_8cb87e02939brow8_col0\" class=\"data row8 col0\" >81.3</td>\n",
       "                        <td id=\"T_63acce68_4745_11ed_afff_8cb87e02939brow8_col1\" class=\"data row8 col1\" >80.8</td>\n",
       "                        <td id=\"T_63acce68_4745_11ed_afff_8cb87e02939brow8_col2\" class=\"data row8 col2\" >80.6</td>\n",
       "                        <td id=\"T_63acce68_4745_11ed_afff_8cb87e02939brow8_col3\" class=\"data row8 col3\" >81.2</td>\n",
       "            </tr>\n",
       "            <tr>\n",
       "                        <th id=\"T_63acce68_4745_11ed_afff_8cb87e02939blevel0_row9\" class=\"row_heading level0 row9\" >Pena High School</th>\n",
       "                        <td id=\"T_63acce68_4745_11ed_afff_8cb87e02939brow9_col0\" class=\"data row9 col0\" >83.8</td>\n",
       "                        <td id=\"T_63acce68_4745_11ed_afff_8cb87e02939brow9_col1\" class=\"data row9 col1\" >83.6</td>\n",
       "                        <td id=\"T_63acce68_4745_11ed_afff_8cb87e02939brow9_col2\" class=\"data row9 col2\" >84.3</td>\n",
       "                        <td id=\"T_63acce68_4745_11ed_afff_8cb87e02939brow9_col3\" class=\"data row9 col3\" >84.6</td>\n",
       "            </tr>\n",
       "            <tr>\n",
       "                        <th id=\"T_63acce68_4745_11ed_afff_8cb87e02939blevel0_row10\" class=\"row_heading level0 row10\" >Rodriguez High School</th>\n",
       "                        <td id=\"T_63acce68_4745_11ed_afff_8cb87e02939brow10_col0\" class=\"data row10 col0\" >81.0</td>\n",
       "                        <td id=\"T_63acce68_4745_11ed_afff_8cb87e02939brow10_col1\" class=\"data row10 col1\" >80.6</td>\n",
       "                        <td id=\"T_63acce68_4745_11ed_afff_8cb87e02939brow10_col2\" class=\"data row10 col2\" >80.9</td>\n",
       "                        <td id=\"T_63acce68_4745_11ed_afff_8cb87e02939brow10_col3\" class=\"data row10 col3\" >80.4</td>\n",
       "            </tr>\n",
       "            <tr>\n",
       "                        <th id=\"T_63acce68_4745_11ed_afff_8cb87e02939blevel0_row11\" class=\"row_heading level0 row11\" >Shelton High School</th>\n",
       "                        <td id=\"T_63acce68_4745_11ed_afff_8cb87e02939brow11_col0\" class=\"data row11 col0\" >84.1</td>\n",
       "                        <td id=\"T_63acce68_4745_11ed_afff_8cb87e02939brow11_col1\" class=\"data row11 col1\" >83.4</td>\n",
       "                        <td id=\"T_63acce68_4745_11ed_afff_8cb87e02939brow11_col2\" class=\"data row11 col2\" >84.4</td>\n",
       "                        <td id=\"T_63acce68_4745_11ed_afff_8cb87e02939brow11_col3\" class=\"data row11 col3\" >82.8</td>\n",
       "            </tr>\n",
       "            <tr>\n",
       "                        <th id=\"T_63acce68_4745_11ed_afff_8cb87e02939blevel0_row12\" class=\"row_heading level0 row12\" >Thomas High School</th>\n",
       "                        <td id=\"T_63acce68_4745_11ed_afff_8cb87e02939brow12_col0\" class=\"data row12 col0\" >83.7</td>\n",
       "                        <td id=\"T_63acce68_4745_11ed_afff_8cb87e02939brow12_col1\" class=\"data row12 col1\" >84.3</td>\n",
       "                        <td id=\"T_63acce68_4745_11ed_afff_8cb87e02939brow12_col2\" class=\"data row12 col2\" >83.6</td>\n",
       "                        <td id=\"T_63acce68_4745_11ed_afff_8cb87e02939brow12_col3\" class=\"data row12 col3\" >83.8</td>\n",
       "            </tr>\n",
       "            <tr>\n",
       "                        <th id=\"T_63acce68_4745_11ed_afff_8cb87e02939blevel0_row13\" class=\"row_heading level0 row13\" >Wilson High School</th>\n",
       "                        <td id=\"T_63acce68_4745_11ed_afff_8cb87e02939brow13_col0\" class=\"data row13 col0\" >83.9</td>\n",
       "                        <td id=\"T_63acce68_4745_11ed_afff_8cb87e02939brow13_col1\" class=\"data row13 col1\" >84.0</td>\n",
       "                        <td id=\"T_63acce68_4745_11ed_afff_8cb87e02939brow13_col2\" class=\"data row13 col2\" >83.8</td>\n",
       "                        <td id=\"T_63acce68_4745_11ed_afff_8cb87e02939brow13_col3\" class=\"data row13 col3\" >84.3</td>\n",
       "            </tr>\n",
       "            <tr>\n",
       "                        <th id=\"T_63acce68_4745_11ed_afff_8cb87e02939blevel0_row14\" class=\"row_heading level0 row14\" >Wright High School</th>\n",
       "                        <td id=\"T_63acce68_4745_11ed_afff_8cb87e02939brow14_col0\" class=\"data row14 col0\" >83.8</td>\n",
       "                        <td id=\"T_63acce68_4745_11ed_afff_8cb87e02939brow14_col1\" class=\"data row14 col1\" >83.8</td>\n",
       "                        <td id=\"T_63acce68_4745_11ed_afff_8cb87e02939brow14_col2\" class=\"data row14 col2\" >84.2</td>\n",
       "                        <td id=\"T_63acce68_4745_11ed_afff_8cb87e02939brow14_col3\" class=\"data row14 col3\" >84.1</td>\n",
       "            </tr>\n",
       "    </tbody></table>"
      ],
      "text/plain": [
       "<pandas.io.formats.style.Styler at 0x21428c41188>"
      ]
     },
     "execution_count": 27,
     "metadata": {},
     "output_type": "execute_result"
    }
   ],
   "source": [
    "#creates grade level average reading scores for each school\n",
    "ninth_readingscore = student_data_df.loc[student_data_df['grade'] == '9th'].groupby('school_name')[\"reading_score\"].mean()\n",
    "tenth_readingscore = student_data_df.loc[student_data_df['grade'] == '10th'].groupby('school_name')[\"reading_score\"].mean()\n",
    "eleventh_readingscore = student_data_df.loc[student_data_df['grade'] == '11th'].groupby('school_name')[\"reading_score\"].mean()\n",
    "twelfth_readingscore = student_data_df.loc[student_data_df['grade'] == '12th'].groupby('school_name')[\"reading_score\"].mean()\n",
    "\n",
    "#merges the reading score averages by school and grade together\n",
    "reading_scores = pd.DataFrame({\n",
    "        \"9th\": ninth_readingscore,\n",
    "        \"10th\": tenth_readingscore,\n",
    "        \"11th\": eleventh_readingscore,\n",
    "        \"12th\": twelfth_readingscore\n",
    "})\n",
    "reading_scores = reading_scores[['9th', '10th', '11th', '12th']]\n",
    "reading_scores.index.name = \"School\"\n",
    "\n",
    "#format\n",
    "reading_scores.style.format({'9th': '{:.1f}', \n",
    "                             \"10th\": '{:.1f}', \n",
    "                             \"11th\": \"{:.1f}\", \n",
    "                             \"12th\": \"{:.1f}\"})"
   ]
  },
  {
   "cell_type": "markdown",
   "metadata": {},
   "source": [
    "## Scores by School Spending"
   ]
  },
  {
   "cell_type": "markdown",
   "metadata": {},
   "source": [
    "* Create a table that breaks down school performances based on average Spending Ranges (Per Student). Use 4 reasonable bins to group school spending. Include in the table each of the following:\n",
    "  * Average Math Score\n",
    "  * Average Reading Score\n",
    "  * % Passing Math\n",
    "  * % Passing Reading\n",
    "  * Overall Passing Rate (Average of the above two)"
   ]
  },
  {
   "cell_type": "code",
   "execution_count": 28,
   "metadata": {},
   "outputs": [
    {
     "data": {
      "text/html": [
       "<style  type=\"text/css\" >\n",
       "</style><table id=\"T_63bb721a_4745_11ed_a905_8cb87e02939b\" ><thead>    <tr>        <th class=\"blank level0\" ></th>        <th class=\"col_heading level0 col0\" >Average Math Score</th>        <th class=\"col_heading level0 col1\" >Average Reading Score</th>        <th class=\"col_heading level0 col2\" >% Passing Math</th>        <th class=\"col_heading level0 col3\" >% Passing Reading</th>        <th class=\"col_heading level0 col4\" >Overall Passing Rate</th>    </tr>    <tr>        <th class=\"index_name level0\" >Per Student Budget</th>        <th class=\"blank\" ></th>        <th class=\"blank\" ></th>        <th class=\"blank\" ></th>        <th class=\"blank\" ></th>        <th class=\"blank\" ></th>    </tr></thead><tbody>\n",
       "                <tr>\n",
       "                        <th id=\"T_63bb721a_4745_11ed_a905_8cb87e02939blevel0_row0\" class=\"row_heading level0 row0\" >< $585</th>\n",
       "                        <td id=\"T_63bb721a_4745_11ed_a905_8cb87e02939brow0_col0\" class=\"data row0 col0\" >83.4</td>\n",
       "                        <td id=\"T_63bb721a_4745_11ed_a905_8cb87e02939brow0_col1\" class=\"data row0 col1\" >84.0</td>\n",
       "                        <td id=\"T_63bb721a_4745_11ed_a905_8cb87e02939brow0_col2\" class=\"data row0 col2\" >93.7%</td>\n",
       "                        <td id=\"T_63bb721a_4745_11ed_a905_8cb87e02939brow0_col3\" class=\"data row0 col3\" >96.7%</td>\n",
       "                        <td id=\"T_63bb721a_4745_11ed_a905_8cb87e02939brow0_col4\" class=\"data row0 col4\" >90.6%</td>\n",
       "            </tr>\n",
       "            <tr>\n",
       "                        <th id=\"T_63bb721a_4745_11ed_a905_8cb87e02939blevel0_row1\" class=\"row_heading level0 row1\" >$585 - 614</th>\n",
       "                        <td id=\"T_63bb721a_4745_11ed_a905_8cb87e02939brow1_col0\" class=\"data row1 col0\" >83.5</td>\n",
       "                        <td id=\"T_63bb721a_4745_11ed_a905_8cb87e02939brow1_col1\" class=\"data row1 col1\" >83.8</td>\n",
       "                        <td id=\"T_63bb721a_4745_11ed_a905_8cb87e02939brow1_col2\" class=\"data row1 col2\" >94.1%</td>\n",
       "                        <td id=\"T_63bb721a_4745_11ed_a905_8cb87e02939brow1_col3\" class=\"data row1 col3\" >95.9%</td>\n",
       "                        <td id=\"T_63bb721a_4745_11ed_a905_8cb87e02939brow1_col4\" class=\"data row1 col4\" >90.1%</td>\n",
       "            </tr>\n",
       "            <tr>\n",
       "                        <th id=\"T_63bb721a_4745_11ed_a905_8cb87e02939blevel0_row2\" class=\"row_heading level0 row2\" >$615 - 644</th>\n",
       "                        <td id=\"T_63bb721a_4745_11ed_a905_8cb87e02939brow2_col0\" class=\"data row2 col0\" >78.1</td>\n",
       "                        <td id=\"T_63bb721a_4745_11ed_a905_8cb87e02939brow2_col1\" class=\"data row2 col1\" >81.4</td>\n",
       "                        <td id=\"T_63bb721a_4745_11ed_a905_8cb87e02939brow2_col2\" class=\"data row2 col2\" >71.4%</td>\n",
       "                        <td id=\"T_63bb721a_4745_11ed_a905_8cb87e02939brow2_col3\" class=\"data row2 col3\" >83.6%</td>\n",
       "                        <td id=\"T_63bb721a_4745_11ed_a905_8cb87e02939brow2_col4\" class=\"data row2 col4\" >60.3%</td>\n",
       "            </tr>\n",
       "            <tr>\n",
       "                        <th id=\"T_63bb721a_4745_11ed_a905_8cb87e02939blevel0_row3\" class=\"row_heading level0 row3\" >> $644</th>\n",
       "                        <td id=\"T_63bb721a_4745_11ed_a905_8cb87e02939brow3_col0\" class=\"data row3 col0\" >77.0</td>\n",
       "                        <td id=\"T_63bb721a_4745_11ed_a905_8cb87e02939brow3_col1\" class=\"data row3 col1\" >81.0</td>\n",
       "                        <td id=\"T_63bb721a_4745_11ed_a905_8cb87e02939brow3_col2\" class=\"data row3 col2\" >66.2%</td>\n",
       "                        <td id=\"T_63bb721a_4745_11ed_a905_8cb87e02939brow3_col3\" class=\"data row3 col3\" >81.1%</td>\n",
       "                        <td id=\"T_63bb721a_4745_11ed_a905_8cb87e02939brow3_col4\" class=\"data row3 col4\" >53.5%</td>\n",
       "            </tr>\n",
       "    </tbody></table>"
      ],
      "text/plain": [
       "<pandas.io.formats.style.Styler at 0x21428c69888>"
      ]
     },
     "execution_count": 28,
     "metadata": {},
     "output_type": "execute_result"
    }
   ],
   "source": [
    "#School performance by size\n",
    "bins = [0, 584.999, 614.999, 644.999, 999999]\n",
    "group_name = ['< $585', \"$585 - 614\", \"$615 - 644\", \"> $644\"]\n",
    "school_data_complete['spending_bins'] = pd.cut(school_data_complete['budget']/school_data_complete['size'], bins, labels = group_name)\n",
    "\n",
    "#group by spending\n",
    "by_spending = school_data_complete.groupby('spending_bins')\n",
    "\n",
    "#calculations\n",
    "avg_math = by_spending['math_score'].mean()\n",
    "avg_read = by_spending['reading_score'].mean()\n",
    "pass_math = school_data_complete[school_data_complete['math_score'] >= 70].groupby('spending_bins')['Student ID'].count()/by_spending['Student ID'].count()\n",
    "pass_read = school_data_complete[school_data_complete['reading_score'] >= 70].groupby('spending_bins')['Student ID'].count()/by_spending['Student ID'].count()\n",
    "overall = school_data_complete[(school_data_complete['reading_score'] >= 70) & (school_data_complete['math_score'] >= 70)].groupby('spending_bins')['Student ID'].count()/by_spending['Student ID'].count()\n",
    "\n",
    "            \n",
    "# df build            \n",
    "scores_by_spend = pd.DataFrame({\n",
    "    \"Average Math Score\": avg_math,\n",
    "    \"Average Reading Score\": avg_read,\n",
    "    '% Passing Math': pass_math,\n",
    "    '% Passing Reading': pass_read,\n",
    "    \"Overall Passing Rate\": overall\n",
    "            \n",
    "})\n",
    "            \n",
    "#reorder columns\n",
    "scores_by_spend = scores_by_spend[[\n",
    "    \"Average Math Score\",\n",
    "    \"Average Reading Score\",\n",
    "    '% Passing Math',\n",
    "    '% Passing Reading',\n",
    "    \"Overall Passing Rate\"\n",
    "]]\n",
    "\n",
    "scores_by_spend.index.name = \"Per Student Budget\"\n",
    "scores_by_spend = scores_by_spend.reindex(group_name)\n",
    "\n",
    "#formating\n",
    "scores_by_spend.style.format({'Average Math Score': '{:.1f}', \n",
    "                              'Average Reading Score': '{:.1f}', \n",
    "                              '% Passing Math': '{:.1%}', \n",
    "                              '% Passing Reading':'{:.1%}', \n",
    "                              'Overall Passing Rate': '{:.1%}'})"
   ]
  },
  {
   "cell_type": "markdown",
   "metadata": {},
   "source": [
    "## Scores by School Size"
   ]
  },
  {
   "cell_type": "markdown",
   "metadata": {},
   "source": [
    "* Perform the same operations as above, based on school size."
   ]
  },
  {
   "cell_type": "code",
   "execution_count": 48,
   "metadata": {},
   "outputs": [
    {
     "data": {
      "text/html": [
       "<div>\n",
       "<style scoped>\n",
       "    .dataframe tbody tr th:only-of-type {\n",
       "        vertical-align: middle;\n",
       "    }\n",
       "\n",
       "    .dataframe tbody tr th {\n",
       "        vertical-align: top;\n",
       "    }\n",
       "\n",
       "    .dataframe thead th {\n",
       "        text-align: right;\n",
       "    }\n",
       "</style>\n",
       "<table border=\"1\" class=\"dataframe\">\n",
       "  <thead>\n",
       "    <tr style=\"text-align: right;\">\n",
       "      <th></th>\n",
       "      <th>School Type</th>\n",
       "      <th>Students</th>\n",
       "      <th>School Budget</th>\n",
       "      <th>Budget per Student</th>\n",
       "      <th>Average Math Score</th>\n",
       "      <th>Average Reading Score</th>\n",
       "      <th>% Passing Math</th>\n",
       "      <th>% Passing Reading</th>\n",
       "      <th>Overall Pass Rate</th>\n",
       "      <th>School_size</th>\n",
       "    </tr>\n",
       "  </thead>\n",
       "  <tbody>\n",
       "    <tr>\n",
       "      <th>Bailey High School</th>\n",
       "      <td>District</td>\n",
       "      <td>4976</td>\n",
       "      <td>3124928</td>\n",
       "      <td>628.0</td>\n",
       "      <td>77.05</td>\n",
       "      <td>81.03</td>\n",
       "      <td>66.68</td>\n",
       "      <td>81.93</td>\n",
       "      <td>74.31</td>\n",
       "      <td>Large (&gt;=2000)</td>\n",
       "    </tr>\n",
       "    <tr>\n",
       "      <th>Cabrera High School</th>\n",
       "      <td>Charter</td>\n",
       "      <td>1858</td>\n",
       "      <td>1081356</td>\n",
       "      <td>582.0</td>\n",
       "      <td>83.06</td>\n",
       "      <td>83.98</td>\n",
       "      <td>94.13</td>\n",
       "      <td>97.04</td>\n",
       "      <td>95.58</td>\n",
       "      <td>Medium (1000-1999)</td>\n",
       "    </tr>\n",
       "    <tr>\n",
       "      <th>Figueroa High School</th>\n",
       "      <td>District</td>\n",
       "      <td>2949</td>\n",
       "      <td>1884411</td>\n",
       "      <td>639.0</td>\n",
       "      <td>76.71</td>\n",
       "      <td>81.16</td>\n",
       "      <td>65.99</td>\n",
       "      <td>80.74</td>\n",
       "      <td>73.36</td>\n",
       "      <td>Large (&gt;=2000)</td>\n",
       "    </tr>\n",
       "    <tr>\n",
       "      <th>Ford High School</th>\n",
       "      <td>District</td>\n",
       "      <td>2739</td>\n",
       "      <td>1763916</td>\n",
       "      <td>644.0</td>\n",
       "      <td>77.10</td>\n",
       "      <td>80.75</td>\n",
       "      <td>68.31</td>\n",
       "      <td>79.30</td>\n",
       "      <td>73.81</td>\n",
       "      <td>Large (&gt;=2000)</td>\n",
       "    </tr>\n",
       "    <tr>\n",
       "      <th>Griffin High School</th>\n",
       "      <td>Charter</td>\n",
       "      <td>1468</td>\n",
       "      <td>917500</td>\n",
       "      <td>625.0</td>\n",
       "      <td>83.35</td>\n",
       "      <td>83.82</td>\n",
       "      <td>93.39</td>\n",
       "      <td>97.14</td>\n",
       "      <td>95.26</td>\n",
       "      <td>Medium (1000-1999)</td>\n",
       "    </tr>\n",
       "  </tbody>\n",
       "</table>\n",
       "</div>"
      ],
      "text/plain": [
       "                     School Type  Students  School Budget  Budget per Student  \\\n",
       "Bailey High School      District      4976        3124928               628.0   \n",
       "Cabrera High School      Charter      1858        1081356               582.0   \n",
       "Figueroa High School    District      2949        1884411               639.0   \n",
       "Ford High School        District      2739        1763916               644.0   \n",
       "Griffin High School      Charter      1468         917500               625.0   \n",
       "\n",
       "                      Average Math Score  Average Reading Score  \\\n",
       "Bailey High School                 77.05                  81.03   \n",
       "Cabrera High School                83.06                  83.98   \n",
       "Figueroa High School               76.71                  81.16   \n",
       "Ford High School                   77.10                  80.75   \n",
       "Griffin High School                83.35                  83.82   \n",
       "\n",
       "                      % Passing Math  % Passing Reading  Overall Pass Rate  \\\n",
       "Bailey High School             66.68              81.93              74.31   \n",
       "Cabrera High School            94.13              97.04              95.58   \n",
       "Figueroa High School           65.99              80.74              73.36   \n",
       "Ford High School               68.31              79.30              73.81   \n",
       "Griffin High School            93.39              97.14              95.26   \n",
       "\n",
       "                             School_size  \n",
       "Bailey High School        Large (>=2000)  \n",
       "Cabrera High School   Medium (1000-1999)  \n",
       "Figueroa High School      Large (>=2000)  \n",
       "Ford High School          Large (>=2000)  \n",
       "Griffin High School   Medium (1000-1999)  "
      ]
     },
     "execution_count": 48,
     "metadata": {},
     "output_type": "execute_result"
    }
   ],
   "source": [
    "#Create a table that breaks down school performance based on school size (small, medium, or large)\n",
    "Student_numberbin = [0, 999, 1999, 999999999999]\n",
    "School_size = [\"Small (<1000)\" , \"Medium (1000-1999)\" , \"Large (>=2000)\"]\n",
    "School_Summary['School_size'] = pd.cut(School_Summary['Students'], Student_numberbin, labels = School_size)\n",
    "School_Summary.head()"
   ]
  },
  {
   "cell_type": "code",
   "execution_count": 51,
   "metadata": {
    "scrolled": true
   },
   "outputs": [
    {
     "data": {
      "text/html": [
       "<style  type=\"text/css\" >\n",
       "</style><table id=\"T_e816e210_4752_11ed_bf75_8cb87e02939b\" ><thead>    <tr>        <th class=\"blank level0\" ></th>        <th class=\"col_heading level0 col0\" >Average Math Score</th>        <th class=\"col_heading level0 col1\" >Average Reading Score</th>        <th class=\"col_heading level0 col2\" >% Passing Math</th>        <th class=\"col_heading level0 col3\" >% Passing Reading</th>        <th class=\"col_heading level0 col4\" >Overall Passing Rate</th>    </tr>    <tr>        <th class=\"index_name level0\" >School size</th>        <th class=\"blank\" ></th>        <th class=\"blank\" ></th>        <th class=\"blank\" ></th>        <th class=\"blank\" ></th>        <th class=\"blank\" ></th>    </tr></thead><tbody>\n",
       "                <tr>\n",
       "                        <th id=\"T_e816e210_4752_11ed_bf75_8cb87e02939blevel0_row0\" class=\"row_heading level0 row0\" >Small (<1000)</th>\n",
       "                        <td id=\"T_e816e210_4752_11ed_bf75_8cb87e02939brow0_col0\" class=\"data row0 col0\" >83.8</td>\n",
       "                        <td id=\"T_e816e210_4752_11ed_bf75_8cb87e02939brow0_col1\" class=\"data row0 col1\" >83.9</td>\n",
       "                        <td id=\"T_e816e210_4752_11ed_bf75_8cb87e02939brow0_col2\" class=\"data row0 col2\" >93.6%</td>\n",
       "                        <td id=\"T_e816e210_4752_11ed_bf75_8cb87e02939brow0_col3\" class=\"data row0 col3\" >96.1%</td>\n",
       "                        <td id=\"T_e816e210_4752_11ed_bf75_8cb87e02939brow0_col4\" class=\"data row0 col4\" >94.8%</td>\n",
       "            </tr>\n",
       "            <tr>\n",
       "                        <th id=\"T_e816e210_4752_11ed_bf75_8cb87e02939blevel0_row1\" class=\"row_heading level0 row1\" >Medium (1000-1999)</th>\n",
       "                        <td id=\"T_e816e210_4752_11ed_bf75_8cb87e02939brow1_col0\" class=\"data row1 col0\" >83.4</td>\n",
       "                        <td id=\"T_e816e210_4752_11ed_bf75_8cb87e02939brow1_col1\" class=\"data row1 col1\" >83.9</td>\n",
       "                        <td id=\"T_e816e210_4752_11ed_bf75_8cb87e02939brow1_col2\" class=\"data row1 col2\" >93.6%</td>\n",
       "                        <td id=\"T_e816e210_4752_11ed_bf75_8cb87e02939brow1_col3\" class=\"data row1 col3\" >96.8%</td>\n",
       "                        <td id=\"T_e816e210_4752_11ed_bf75_8cb87e02939brow1_col4\" class=\"data row1 col4\" >95.2%</td>\n",
       "            </tr>\n",
       "            <tr>\n",
       "                        <th id=\"T_e816e210_4752_11ed_bf75_8cb87e02939blevel0_row2\" class=\"row_heading level0 row2\" >Large (>=2000)</th>\n",
       "                        <td id=\"T_e816e210_4752_11ed_bf75_8cb87e02939brow2_col0\" class=\"data row2 col0\" >77.7</td>\n",
       "                        <td id=\"T_e816e210_4752_11ed_bf75_8cb87e02939brow2_col1\" class=\"data row2 col1\" >81.3</td>\n",
       "                        <td id=\"T_e816e210_4752_11ed_bf75_8cb87e02939brow2_col2\" class=\"data row2 col2\" >70.0%</td>\n",
       "                        <td id=\"T_e816e210_4752_11ed_bf75_8cb87e02939brow2_col3\" class=\"data row2 col3\" >82.8%</td>\n",
       "                        <td id=\"T_e816e210_4752_11ed_bf75_8cb87e02939brow2_col4\" class=\"data row2 col4\" >76.4%</td>\n",
       "            </tr>\n",
       "    </tbody></table>"
      ],
      "text/plain": [
       "<pandas.io.formats.style.Styler at 0x21428c8c888>"
      ]
     },
     "execution_count": 51,
     "metadata": {},
     "output_type": "execute_result"
    }
   ],
   "source": [
    "#Create a table that breaks down school performance based on school size (small, medium, or large)\n",
    "Student_numberbin = [0, 999, 1999, 999999999999]\n",
    "School_size = [\"Small (<1000)\" , \"Medium (1000-1999)\" , \"Large (>=2000)\"]\n",
    "School_Summary['School_size'] = pd.cut(School_Summary['Students'], Student_numberbin, labels = School_size)\n",
    "School_Summary.head()\n",
    "\n",
    "# grouping by School size\n",
    "\n",
    "avg_math = School_Summary.groupby(['School_size'])['Average Math Score'].mean()\n",
    "avg_read = School_Summary.groupby(['School_size'])['Average Reading Score'].mean()\n",
    "pass_math = School_Summary.groupby(['School_size'])['% Passing Math'].mean() / 100\n",
    "pass_read = School_Summary.groupby(['School_size'])['% Passing Reading'].mean() / 100\n",
    "overall = School_Summary.groupby(['School_size'])['Overall Pass Rate'].mean() / 100\n",
    "\n",
    "# df build            \n",
    "scores_by_size = pd.DataFrame({\n",
    "    \"Average Math Score\": avg_math,\n",
    "    \"Average Reading Score\": avg_read,\n",
    "    '% Passing Math': pass_math,\n",
    "    '% Passing Reading': pass_read,\n",
    "    \"Overall Passing Rate\": overall            \n",
    "})\n",
    "            \n",
    "#reorder columns\n",
    "scores_by_size = scores_by_size[[\n",
    "    \"Average Math Score\",\n",
    "    \"Average Reading Score\",\n",
    "    '% Passing Math',\n",
    "    '% Passing Reading',\n",
    "    \"Overall Passing Rate\"\n",
    "]]\n",
    "\n",
    "scores_by_size.index.name = \"School size\"\n",
    "scores_by_size = scores_by_size.reindex(School_size)\n",
    "\n",
    "#formating\n",
    "scores_by_size.style.format({'Average Math Score': '{:.1f}', \n",
    "                              'Average Reading Score': '{:.1f}', \n",
    "                              '% Passing Math': '{:.1%}', \n",
    "                              '% Passing Reading':'{:.1%}', \n",
    "                              'Overall Passing Rate': '{:.1%}'})"
   ]
  },
  {
   "cell_type": "markdown",
   "metadata": {},
   "source": [
    "## Scores by School Type"
   ]
  },
  {
   "cell_type": "markdown",
   "metadata": {},
   "source": [
    "* Perform the same operations as above, based on school type"
   ]
  },
  {
   "cell_type": "code",
   "execution_count": 30,
   "metadata": {},
   "outputs": [
    {
     "data": {
      "text/html": [
       "<style  type=\"text/css\" >\n",
       "</style><table id=\"T_da668ab0_4745_11ed_ac50_8cb87e02939b\" ><thead>    <tr>        <th class=\"blank level0\" ></th>        <th class=\"col_heading level0 col0\" >Average Math Score</th>        <th class=\"col_heading level0 col1\" >Average Reading Score</th>        <th class=\"col_heading level0 col2\" >% Passing Math</th>        <th class=\"col_heading level0 col3\" >% Passing Reading</th>        <th class=\"col_heading level0 col4\" >Overall Passing Rate</th>    </tr>    <tr>        <th class=\"index_name level0\" >Type of School</th>        <th class=\"blank\" ></th>        <th class=\"blank\" ></th>        <th class=\"blank\" ></th>        <th class=\"blank\" ></th>        <th class=\"blank\" ></th>    </tr></thead><tbody>\n",
       "                <tr>\n",
       "                        <th id=\"T_da668ab0_4745_11ed_ac50_8cb87e02939blevel0_row0\" class=\"row_heading level0 row0\" >Charter</th>\n",
       "                        <td id=\"T_da668ab0_4745_11ed_ac50_8cb87e02939brow0_col0\" class=\"data row0 col0\" >83.4</td>\n",
       "                        <td id=\"T_da668ab0_4745_11ed_ac50_8cb87e02939brow0_col1\" class=\"data row0 col1\" >83.4</td>\n",
       "                        <td id=\"T_da668ab0_4745_11ed_ac50_8cb87e02939brow0_col2\" class=\"data row0 col2\" >93.7%</td>\n",
       "                        <td id=\"T_da668ab0_4745_11ed_ac50_8cb87e02939brow0_col3\" class=\"data row0 col3\" >96.6%</td>\n",
       "                        <td id=\"T_da668ab0_4745_11ed_ac50_8cb87e02939brow0_col4\" class=\"data row0 col4\" >90.6%</td>\n",
       "            </tr>\n",
       "            <tr>\n",
       "                        <th id=\"T_da668ab0_4745_11ed_ac50_8cb87e02939blevel0_row1\" class=\"row_heading level0 row1\" >District</th>\n",
       "                        <td id=\"T_da668ab0_4745_11ed_ac50_8cb87e02939brow1_col0\" class=\"data row1 col0\" >77.0</td>\n",
       "                        <td id=\"T_da668ab0_4745_11ed_ac50_8cb87e02939brow1_col1\" class=\"data row1 col1\" >77.0</td>\n",
       "                        <td id=\"T_da668ab0_4745_11ed_ac50_8cb87e02939brow1_col2\" class=\"data row1 col2\" >66.5%</td>\n",
       "                        <td id=\"T_da668ab0_4745_11ed_ac50_8cb87e02939brow1_col3\" class=\"data row1 col3\" >80.9%</td>\n",
       "                        <td id=\"T_da668ab0_4745_11ed_ac50_8cb87e02939brow1_col4\" class=\"data row1 col4\" >53.7%</td>\n",
       "            </tr>\n",
       "    </tbody></table>"
      ],
      "text/plain": [
       "<pandas.io.formats.style.Styler at 0x2142738cc48>"
      ]
     },
     "execution_count": 30,
     "metadata": {},
     "output_type": "execute_result"
    }
   ],
   "source": [
    "# Create a table that breaks down school performance based on type of school (district or charter)\n",
    "by_type = school_data_complete.groupby(\"type\")\n",
    "\n",
    "#calculations \n",
    "avg_math = by_type['math_score'].mean()\n",
    "avg_read = by_type['math_score'].mean()\n",
    "pass_math = school_data_complete[school_data_complete['math_score'] >= 70].groupby('type')['Student ID'].count()/by_type['Student ID'].count()\n",
    "pass_read = school_data_complete[school_data_complete['reading_score'] >= 70].groupby('type')['Student ID'].count()/by_type['Student ID'].count()\n",
    "overall = school_data_complete[(school_data_complete['reading_score'] >= 70) & (school_data_complete['math_score'] >= 70)].groupby('type')['Student ID'].count()/by_type['Student ID'].count()\n",
    "\n",
    "# df build            \n",
    "scores_by_type = pd.DataFrame({\n",
    "    \"Average Math Score\": avg_math,\n",
    "    \"Average Reading Score\": avg_read,\n",
    "    '% Passing Math': pass_math,\n",
    "    '% Passing Reading': pass_read,\n",
    "    \"Overall Passing Rate\": overall})\n",
    "    \n",
    "#reorder columns\n",
    "scores_by_type = scores_by_type[[\n",
    "    \"Average Math Score\",\n",
    "    \"Average Reading Score\",\n",
    "    '% Passing Math',\n",
    "    '% Passing Reading',\n",
    "    \"Overall Passing Rate\"\n",
    "]]\n",
    "scores_by_type.index.name = \"Type of School\"\n",
    "\n",
    "\n",
    "#formating\n",
    "scores_by_type.style.format({'Average Math Score': '{:.1f}', \n",
    "                              'Average Reading Score': '{:.1f}', \n",
    "                              '% Passing Math': '{:.1%}', \n",
    "                              '% Passing Reading':'{:.1%}', \n",
    "                              'Overall Passing Rate': '{:.1%}'})"
   ]
  },
  {
   "cell_type": "code",
   "execution_count": null,
   "metadata": {},
   "outputs": [],
   "source": []
  }
 ],
 "metadata": {
  "anaconda-cloud": {},
  "kernel_info": {
   "name": "python3"
  },
  "kernelspec": {
   "display_name": "PythonData",
   "language": "python",
   "name": "pythondata"
  },
  "language_info": {
   "codemirror_mode": {
    "name": "ipython",
    "version": 3
   },
   "file_extension": ".py",
   "mimetype": "text/x-python",
   "name": "python",
   "nbconvert_exporter": "python",
   "pygments_lexer": "ipython3",
   "version": "3.7.7"
  },
  "latex_envs": {
   "LaTeX_envs_menu_present": true,
   "autoclose": false,
   "autocomplete": true,
   "bibliofile": "biblio.bib",
   "cite_by": "apalike",
   "current_citInitial": 1,
   "eqLabelWithNumbers": true,
   "eqNumInitial": 1,
   "hotkeys": {
    "equation": "Ctrl-E",
    "itemize": "Ctrl-I"
   },
   "labels_anchors": false,
   "latex_user_defs": false,
   "report_style_numbering": false,
   "user_envs_cfg": false
  },
  "nteract": {
   "version": "0.8.4"
  }
 },
 "nbformat": 4,
 "nbformat_minor": 1
}
